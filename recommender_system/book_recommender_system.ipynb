{
  "nbformat": 4,
  "nbformat_minor": 0,
  "metadata": {
    "colab": {
      "name": "book_recommender_system.ipynb",
      "provenance": [],
      "collapsed_sections": [],
      "toc_visible": true,
      "authorship_tag": "ABX9TyOcxwMTR2eH8wDcu1qI1fI3",
      "include_colab_link": true
    },
    "kernelspec": {
      "name": "python3",
      "display_name": "Python 3"
    },
    "language_info": {
      "name": "python"
    }
  },
  "cells": [
    {
      "cell_type": "markdown",
      "metadata": {
        "id": "view-in-github",
        "colab_type": "text"
      },
      "source": [
        "<a href=\"https://colab.research.google.com/github/kunalburgul/MLDS_Problems/blob/main/recommender_system/book_recommender_system.ipynb\" target=\"_parent\"><img src=\"https://colab.research.google.com/assets/colab-badge.svg\" alt=\"Open In Colab\"/></a>"
      ]
    },
    {
      "cell_type": "markdown",
      "source": [
        "\n",
        "# **Book Recommender System**\n",
        "\n",
        "<img src = \"https://miro.medium.com/max/1080/1*81I8dEzTfiMdwMByUcRbag.jpeg\">\n",
        "\n",
        "**Content**\n",
        "\n",
        "The Book-Crossing dataset comprises 3 files.\n",
        "\n",
        "***Users***\n",
        "\n",
        "Contains the users. Note that user IDs (User-ID) have been anonymized and map to integers. Demographic data is provided (Location, Age) if available. Otherwise, these fields contain NULL-values.\n",
        "\n",
        "***Books***\n",
        "\n",
        "Books are identified by their respective ISBN. Invalid ISBNs have already been removed from the dataset. Moreover, some content-based information is given (Book-Title, Book-Author, Year-Of-Publication, Publisher), obtained from Amazon Web Services. Note that in case of several authors, only the first is provided. URLs linking to cover images are also given, appearing in three different flavours (Image-URL-S, Image-URL-M, Image-URL-L), i.e., small, medium, large. These URLs point to the Amazon web site.\n",
        "\n",
        "***Ratings***\n",
        "\n",
        "Contains the book rating information. Ratings (Book-Rating) are either explicit, expressed on a scale from 1-10 (higher values denoting higher appreciation), or implicit, expressed by 0.\n"
      ],
      "metadata": {
        "id": "YPThdpoG0a-3"
      }
    },
    {
      "cell_type": "markdown",
      "source": [
        "## **Recommendation System**\n",
        "\n",
        "A recommendation system helps an organization to create loyal customers and build trust by them desired products and services for which they came on your site. The recommendation system today are so powerful that they can handle the new customer too who has visited the site for the first time. They recommend the products which are currently trending or highly rated and they can also recommend the products which bring maximum profit to the company."
      ],
      "metadata": {
        "id": "frqn4FFr2CKm"
      }
    },
    {
      "cell_type": "markdown",
      "source": [
        "Let's first download and load the data from the Kaggle : [Book Recommender System\n",
        "](https://www.youtube.com/redirect?event=video_description&redir_token=QUFFLUhqblZtZHFEUmhNX3NtZU9Yek5TazFCN0tKcnRMd3xBQ3Jtc0ttalJMTWdpYzEtYzAwSVQydjlBQ2pDSDVKTGFYMGo0cVpVQk1kMm9zZEY1Zm5aNWdpaUJQcE0zcXZuSlBQX0xVOWFGelpWR0J1QVdNbXdnQmp5UG0yREZ0azVCMWYxb3Q4NExfdXpKX1dGVExINFpwUQ&q=https%3A%2F%2Fwww.kaggle.com%2Fdatasets%2Farashnic%2Fbook-recommendation-dataset&v=1YoD0fg3_EM)"
      ],
      "metadata": {
        "id": "RQQcv80O2GsC"
      }
    },
    {
      "cell_type": "code",
      "execution_count": 2,
      "metadata": {
        "id": "dQVhm4KbJkeV"
      },
      "outputs": [],
      "source": [
        "!mkdir -p ~/.kaggle\n",
        "!cp kaggle.json ~/.kaggle/"
      ]
    },
    {
      "cell_type": "code",
      "source": [
        "!kaggle datasets download -d arashnic/book-recommendation-dataset"
      ],
      "metadata": {
        "colab": {
          "base_uri": "https://localhost:8080/"
        },
        "id": "gJrxWCAgbZHC",
        "outputId": "d52d35d1-e798-40e8-a0db-630ec2fc60de"
      },
      "execution_count": 3,
      "outputs": [
        {
          "output_type": "stream",
          "name": "stdout",
          "text": [
            "Warning: Your Kaggle API key is readable by other users on this system! To fix this, you can run 'chmod 600 /root/.kaggle/kaggle.json'\n",
            "Downloading book-recommendation-dataset.zip to /content\n",
            " 21% 5.00M/23.8M [00:00<00:00, 41.7MB/s]\n",
            "100% 23.8M/23.8M [00:00<00:00, 114MB/s] \n"
          ]
        }
      ]
    },
    {
      "cell_type": "code",
      "source": [
        "# Extracting the files\n",
        "import zipfile\n",
        "zip_ref = zipfile.ZipFile('book-recommendation-dataset.zip', 'r')\n",
        "zip_ref.extractall('/content')\n",
        "zip_ref.close()"
      ],
      "metadata": {
        "id": "Ss56d6pubgOm"
      },
      "execution_count": 4,
      "outputs": []
    },
    {
      "cell_type": "code",
      "source": [
        "# Some baisc libraries\n",
        "import os\n",
        "import numpy as np\n",
        "import pandas as pd\n",
        "import seaborn as sns\n",
        "import matplotlib.pyplot as plt"
      ],
      "metadata": {
        "id": "QgZ00Q9tbklA"
      },
      "execution_count": 5,
      "outputs": []
    },
    {
      "cell_type": "code",
      "source": [
        "# Reading the files\n",
        "books = pd.read_csv('Books.csv')\n",
        "users = pd.read_csv('Users.csv')\n",
        "ratings = pd.read_csv('Ratings.csv')"
      ],
      "metadata": {
        "colab": {
          "base_uri": "https://localhost:8080/"
        },
        "id": "xlmUdoikb3z-",
        "outputId": "fc5c2c6d-2213-4de2-8ea6-fbcc11902cab"
      },
      "execution_count": 6,
      "outputs": [
        {
          "output_type": "stream",
          "name": "stderr",
          "text": [
            "/usr/local/lib/python3.7/dist-packages/IPython/core/interactiveshell.py:2882: DtypeWarning: Columns (3) have mixed types.Specify dtype option on import or set low_memory=False.\n",
            "  exec(code_obj, self.user_global_ns, self.user_ns)\n"
          ]
        }
      ]
    },
    {
      "cell_type": "markdown",
      "source": [
        "## **Basic Exploration over the data**"
      ],
      "metadata": {
        "id": "zeEMNZ8320jc"
      }
    },
    {
      "cell_type": "code",
      "source": [
        "books.head()"
      ],
      "metadata": {
        "colab": {
          "base_uri": "https://localhost:8080/",
          "height": 478
        },
        "id": "gPT-yGpocDuO",
        "outputId": "23dd32a7-e204-4479-c52f-280a50420263"
      },
      "execution_count": 7,
      "outputs": [
        {
          "output_type": "execute_result",
          "data": {
            "text/plain": [
              "         ISBN                                         Book-Title  \\\n",
              "0  0195153448                                Classical Mythology   \n",
              "1  0002005018                                       Clara Callan   \n",
              "2  0060973129                               Decision in Normandy   \n",
              "3  0374157065  Flu: The Story of the Great Influenza Pandemic...   \n",
              "4  0393045218                             The Mummies of Urumchi   \n",
              "\n",
              "            Book-Author Year-Of-Publication                   Publisher  \\\n",
              "0    Mark P. O. Morford                2002     Oxford University Press   \n",
              "1  Richard Bruce Wright                2001       HarperFlamingo Canada   \n",
              "2          Carlo D'Este                1991             HarperPerennial   \n",
              "3      Gina Bari Kolata                1999        Farrar Straus Giroux   \n",
              "4       E. J. W. Barber                1999  W. W. Norton &amp; Company   \n",
              "\n",
              "                                         Image-URL-S  \\\n",
              "0  http://images.amazon.com/images/P/0195153448.0...   \n",
              "1  http://images.amazon.com/images/P/0002005018.0...   \n",
              "2  http://images.amazon.com/images/P/0060973129.0...   \n",
              "3  http://images.amazon.com/images/P/0374157065.0...   \n",
              "4  http://images.amazon.com/images/P/0393045218.0...   \n",
              "\n",
              "                                         Image-URL-M  \\\n",
              "0  http://images.amazon.com/images/P/0195153448.0...   \n",
              "1  http://images.amazon.com/images/P/0002005018.0...   \n",
              "2  http://images.amazon.com/images/P/0060973129.0...   \n",
              "3  http://images.amazon.com/images/P/0374157065.0...   \n",
              "4  http://images.amazon.com/images/P/0393045218.0...   \n",
              "\n",
              "                                         Image-URL-L  \n",
              "0  http://images.amazon.com/images/P/0195153448.0...  \n",
              "1  http://images.amazon.com/images/P/0002005018.0...  \n",
              "2  http://images.amazon.com/images/P/0060973129.0...  \n",
              "3  http://images.amazon.com/images/P/0374157065.0...  \n",
              "4  http://images.amazon.com/images/P/0393045218.0...  "
            ],
            "text/html": [
              "\n",
              "  <div id=\"df-f67dce51-2518-44e8-81ff-f990be37cf02\">\n",
              "    <div class=\"colab-df-container\">\n",
              "      <div>\n",
              "<style scoped>\n",
              "    .dataframe tbody tr th:only-of-type {\n",
              "        vertical-align: middle;\n",
              "    }\n",
              "\n",
              "    .dataframe tbody tr th {\n",
              "        vertical-align: top;\n",
              "    }\n",
              "\n",
              "    .dataframe thead th {\n",
              "        text-align: right;\n",
              "    }\n",
              "</style>\n",
              "<table border=\"1\" class=\"dataframe\">\n",
              "  <thead>\n",
              "    <tr style=\"text-align: right;\">\n",
              "      <th></th>\n",
              "      <th>ISBN</th>\n",
              "      <th>Book-Title</th>\n",
              "      <th>Book-Author</th>\n",
              "      <th>Year-Of-Publication</th>\n",
              "      <th>Publisher</th>\n",
              "      <th>Image-URL-S</th>\n",
              "      <th>Image-URL-M</th>\n",
              "      <th>Image-URL-L</th>\n",
              "    </tr>\n",
              "  </thead>\n",
              "  <tbody>\n",
              "    <tr>\n",
              "      <th>0</th>\n",
              "      <td>0195153448</td>\n",
              "      <td>Classical Mythology</td>\n",
              "      <td>Mark P. O. Morford</td>\n",
              "      <td>2002</td>\n",
              "      <td>Oxford University Press</td>\n",
              "      <td>http://images.amazon.com/images/P/0195153448.0...</td>\n",
              "      <td>http://images.amazon.com/images/P/0195153448.0...</td>\n",
              "      <td>http://images.amazon.com/images/P/0195153448.0...</td>\n",
              "    </tr>\n",
              "    <tr>\n",
              "      <th>1</th>\n",
              "      <td>0002005018</td>\n",
              "      <td>Clara Callan</td>\n",
              "      <td>Richard Bruce Wright</td>\n",
              "      <td>2001</td>\n",
              "      <td>HarperFlamingo Canada</td>\n",
              "      <td>http://images.amazon.com/images/P/0002005018.0...</td>\n",
              "      <td>http://images.amazon.com/images/P/0002005018.0...</td>\n",
              "      <td>http://images.amazon.com/images/P/0002005018.0...</td>\n",
              "    </tr>\n",
              "    <tr>\n",
              "      <th>2</th>\n",
              "      <td>0060973129</td>\n",
              "      <td>Decision in Normandy</td>\n",
              "      <td>Carlo D'Este</td>\n",
              "      <td>1991</td>\n",
              "      <td>HarperPerennial</td>\n",
              "      <td>http://images.amazon.com/images/P/0060973129.0...</td>\n",
              "      <td>http://images.amazon.com/images/P/0060973129.0...</td>\n",
              "      <td>http://images.amazon.com/images/P/0060973129.0...</td>\n",
              "    </tr>\n",
              "    <tr>\n",
              "      <th>3</th>\n",
              "      <td>0374157065</td>\n",
              "      <td>Flu: The Story of the Great Influenza Pandemic...</td>\n",
              "      <td>Gina Bari Kolata</td>\n",
              "      <td>1999</td>\n",
              "      <td>Farrar Straus Giroux</td>\n",
              "      <td>http://images.amazon.com/images/P/0374157065.0...</td>\n",
              "      <td>http://images.amazon.com/images/P/0374157065.0...</td>\n",
              "      <td>http://images.amazon.com/images/P/0374157065.0...</td>\n",
              "    </tr>\n",
              "    <tr>\n",
              "      <th>4</th>\n",
              "      <td>0393045218</td>\n",
              "      <td>The Mummies of Urumchi</td>\n",
              "      <td>E. J. W. Barber</td>\n",
              "      <td>1999</td>\n",
              "      <td>W. W. Norton &amp;amp; Company</td>\n",
              "      <td>http://images.amazon.com/images/P/0393045218.0...</td>\n",
              "      <td>http://images.amazon.com/images/P/0393045218.0...</td>\n",
              "      <td>http://images.amazon.com/images/P/0393045218.0...</td>\n",
              "    </tr>\n",
              "  </tbody>\n",
              "</table>\n",
              "</div>\n",
              "      <button class=\"colab-df-convert\" onclick=\"convertToInteractive('df-f67dce51-2518-44e8-81ff-f990be37cf02')\"\n",
              "              title=\"Convert this dataframe to an interactive table.\"\n",
              "              style=\"display:none;\">\n",
              "        \n",
              "  <svg xmlns=\"http://www.w3.org/2000/svg\" height=\"24px\"viewBox=\"0 0 24 24\"\n",
              "       width=\"24px\">\n",
              "    <path d=\"M0 0h24v24H0V0z\" fill=\"none\"/>\n",
              "    <path d=\"M18.56 5.44l.94 2.06.94-2.06 2.06-.94-2.06-.94-.94-2.06-.94 2.06-2.06.94zm-11 1L8.5 8.5l.94-2.06 2.06-.94-2.06-.94L8.5 2.5l-.94 2.06-2.06.94zm10 10l.94 2.06.94-2.06 2.06-.94-2.06-.94-.94-2.06-.94 2.06-2.06.94z\"/><path d=\"M17.41 7.96l-1.37-1.37c-.4-.4-.92-.59-1.43-.59-.52 0-1.04.2-1.43.59L10.3 9.45l-7.72 7.72c-.78.78-.78 2.05 0 2.83L4 21.41c.39.39.9.59 1.41.59.51 0 1.02-.2 1.41-.59l7.78-7.78 2.81-2.81c.8-.78.8-2.07 0-2.86zM5.41 20L4 18.59l7.72-7.72 1.47 1.35L5.41 20z\"/>\n",
              "  </svg>\n",
              "      </button>\n",
              "      \n",
              "  <style>\n",
              "    .colab-df-container {\n",
              "      display:flex;\n",
              "      flex-wrap:wrap;\n",
              "      gap: 12px;\n",
              "    }\n",
              "\n",
              "    .colab-df-convert {\n",
              "      background-color: #E8F0FE;\n",
              "      border: none;\n",
              "      border-radius: 50%;\n",
              "      cursor: pointer;\n",
              "      display: none;\n",
              "      fill: #1967D2;\n",
              "      height: 32px;\n",
              "      padding: 0 0 0 0;\n",
              "      width: 32px;\n",
              "    }\n",
              "\n",
              "    .colab-df-convert:hover {\n",
              "      background-color: #E2EBFA;\n",
              "      box-shadow: 0px 1px 2px rgba(60, 64, 67, 0.3), 0px 1px 3px 1px rgba(60, 64, 67, 0.15);\n",
              "      fill: #174EA6;\n",
              "    }\n",
              "\n",
              "    [theme=dark] .colab-df-convert {\n",
              "      background-color: #3B4455;\n",
              "      fill: #D2E3FC;\n",
              "    }\n",
              "\n",
              "    [theme=dark] .colab-df-convert:hover {\n",
              "      background-color: #434B5C;\n",
              "      box-shadow: 0px 1px 3px 1px rgba(0, 0, 0, 0.15);\n",
              "      filter: drop-shadow(0px 1px 2px rgba(0, 0, 0, 0.3));\n",
              "      fill: #FFFFFF;\n",
              "    }\n",
              "  </style>\n",
              "\n",
              "      <script>\n",
              "        const buttonEl =\n",
              "          document.querySelector('#df-f67dce51-2518-44e8-81ff-f990be37cf02 button.colab-df-convert');\n",
              "        buttonEl.style.display =\n",
              "          google.colab.kernel.accessAllowed ? 'block' : 'none';\n",
              "\n",
              "        async function convertToInteractive(key) {\n",
              "          const element = document.querySelector('#df-f67dce51-2518-44e8-81ff-f990be37cf02');\n",
              "          const dataTable =\n",
              "            await google.colab.kernel.invokeFunction('convertToInteractive',\n",
              "                                                     [key], {});\n",
              "          if (!dataTable) return;\n",
              "\n",
              "          const docLinkHtml = 'Like what you see? Visit the ' +\n",
              "            '<a target=\"_blank\" href=https://colab.research.google.com/notebooks/data_table.ipynb>data table notebook</a>'\n",
              "            + ' to learn more about interactive tables.';\n",
              "          element.innerHTML = '';\n",
              "          dataTable['output_type'] = 'display_data';\n",
              "          await google.colab.output.renderOutput(dataTable, element);\n",
              "          const docLink = document.createElement('div');\n",
              "          docLink.innerHTML = docLinkHtml;\n",
              "          element.appendChild(docLink);\n",
              "        }\n",
              "      </script>\n",
              "    </div>\n",
              "  </div>\n",
              "  "
            ]
          },
          "metadata": {},
          "execution_count": 7
        }
      ]
    },
    {
      "cell_type": "code",
      "source": [
        "books.columns"
      ],
      "metadata": {
        "colab": {
          "base_uri": "https://localhost:8080/"
        },
        "id": "8BDuw47BcR2K",
        "outputId": "1651c5ec-749a-4eb2-ac1c-bd47193ee248"
      },
      "execution_count": 8,
      "outputs": [
        {
          "output_type": "execute_result",
          "data": {
            "text/plain": [
              "Index(['ISBN', 'Book-Title', 'Book-Author', 'Year-Of-Publication', 'Publisher',\n",
              "       'Image-URL-S', 'Image-URL-M', 'Image-URL-L'],\n",
              "      dtype='object')"
            ]
          },
          "metadata": {},
          "execution_count": 8
        }
      ]
    },
    {
      "cell_type": "code",
      "source": [
        "users.head()"
      ],
      "metadata": {
        "colab": {
          "base_uri": "https://localhost:8080/",
          "height": 206
        },
        "id": "ygj_tYXFcV0N",
        "outputId": "7b784df7-e4a2-413d-a5a7-da89cbc2f70f"
      },
      "execution_count": 9,
      "outputs": [
        {
          "output_type": "execute_result",
          "data": {
            "text/plain": [
              "   User-ID                            Location   Age\n",
              "0        1                  nyc, new york, usa   NaN\n",
              "1        2           stockton, california, usa  18.0\n",
              "2        3     moscow, yukon territory, russia   NaN\n",
              "3        4           porto, v.n.gaia, portugal  17.0\n",
              "4        5  farnborough, hants, united kingdom   NaN"
            ],
            "text/html": [
              "\n",
              "  <div id=\"df-ed159d02-4fa7-4a7f-8d71-4634dc755bb6\">\n",
              "    <div class=\"colab-df-container\">\n",
              "      <div>\n",
              "<style scoped>\n",
              "    .dataframe tbody tr th:only-of-type {\n",
              "        vertical-align: middle;\n",
              "    }\n",
              "\n",
              "    .dataframe tbody tr th {\n",
              "        vertical-align: top;\n",
              "    }\n",
              "\n",
              "    .dataframe thead th {\n",
              "        text-align: right;\n",
              "    }\n",
              "</style>\n",
              "<table border=\"1\" class=\"dataframe\">\n",
              "  <thead>\n",
              "    <tr style=\"text-align: right;\">\n",
              "      <th></th>\n",
              "      <th>User-ID</th>\n",
              "      <th>Location</th>\n",
              "      <th>Age</th>\n",
              "    </tr>\n",
              "  </thead>\n",
              "  <tbody>\n",
              "    <tr>\n",
              "      <th>0</th>\n",
              "      <td>1</td>\n",
              "      <td>nyc, new york, usa</td>\n",
              "      <td>NaN</td>\n",
              "    </tr>\n",
              "    <tr>\n",
              "      <th>1</th>\n",
              "      <td>2</td>\n",
              "      <td>stockton, california, usa</td>\n",
              "      <td>18.0</td>\n",
              "    </tr>\n",
              "    <tr>\n",
              "      <th>2</th>\n",
              "      <td>3</td>\n",
              "      <td>moscow, yukon territory, russia</td>\n",
              "      <td>NaN</td>\n",
              "    </tr>\n",
              "    <tr>\n",
              "      <th>3</th>\n",
              "      <td>4</td>\n",
              "      <td>porto, v.n.gaia, portugal</td>\n",
              "      <td>17.0</td>\n",
              "    </tr>\n",
              "    <tr>\n",
              "      <th>4</th>\n",
              "      <td>5</td>\n",
              "      <td>farnborough, hants, united kingdom</td>\n",
              "      <td>NaN</td>\n",
              "    </tr>\n",
              "  </tbody>\n",
              "</table>\n",
              "</div>\n",
              "      <button class=\"colab-df-convert\" onclick=\"convertToInteractive('df-ed159d02-4fa7-4a7f-8d71-4634dc755bb6')\"\n",
              "              title=\"Convert this dataframe to an interactive table.\"\n",
              "              style=\"display:none;\">\n",
              "        \n",
              "  <svg xmlns=\"http://www.w3.org/2000/svg\" height=\"24px\"viewBox=\"0 0 24 24\"\n",
              "       width=\"24px\">\n",
              "    <path d=\"M0 0h24v24H0V0z\" fill=\"none\"/>\n",
              "    <path d=\"M18.56 5.44l.94 2.06.94-2.06 2.06-.94-2.06-.94-.94-2.06-.94 2.06-2.06.94zm-11 1L8.5 8.5l.94-2.06 2.06-.94-2.06-.94L8.5 2.5l-.94 2.06-2.06.94zm10 10l.94 2.06.94-2.06 2.06-.94-2.06-.94-.94-2.06-.94 2.06-2.06.94z\"/><path d=\"M17.41 7.96l-1.37-1.37c-.4-.4-.92-.59-1.43-.59-.52 0-1.04.2-1.43.59L10.3 9.45l-7.72 7.72c-.78.78-.78 2.05 0 2.83L4 21.41c.39.39.9.59 1.41.59.51 0 1.02-.2 1.41-.59l7.78-7.78 2.81-2.81c.8-.78.8-2.07 0-2.86zM5.41 20L4 18.59l7.72-7.72 1.47 1.35L5.41 20z\"/>\n",
              "  </svg>\n",
              "      </button>\n",
              "      \n",
              "  <style>\n",
              "    .colab-df-container {\n",
              "      display:flex;\n",
              "      flex-wrap:wrap;\n",
              "      gap: 12px;\n",
              "    }\n",
              "\n",
              "    .colab-df-convert {\n",
              "      background-color: #E8F0FE;\n",
              "      border: none;\n",
              "      border-radius: 50%;\n",
              "      cursor: pointer;\n",
              "      display: none;\n",
              "      fill: #1967D2;\n",
              "      height: 32px;\n",
              "      padding: 0 0 0 0;\n",
              "      width: 32px;\n",
              "    }\n",
              "\n",
              "    .colab-df-convert:hover {\n",
              "      background-color: #E2EBFA;\n",
              "      box-shadow: 0px 1px 2px rgba(60, 64, 67, 0.3), 0px 1px 3px 1px rgba(60, 64, 67, 0.15);\n",
              "      fill: #174EA6;\n",
              "    }\n",
              "\n",
              "    [theme=dark] .colab-df-convert {\n",
              "      background-color: #3B4455;\n",
              "      fill: #D2E3FC;\n",
              "    }\n",
              "\n",
              "    [theme=dark] .colab-df-convert:hover {\n",
              "      background-color: #434B5C;\n",
              "      box-shadow: 0px 1px 3px 1px rgba(0, 0, 0, 0.15);\n",
              "      filter: drop-shadow(0px 1px 2px rgba(0, 0, 0, 0.3));\n",
              "      fill: #FFFFFF;\n",
              "    }\n",
              "  </style>\n",
              "\n",
              "      <script>\n",
              "        const buttonEl =\n",
              "          document.querySelector('#df-ed159d02-4fa7-4a7f-8d71-4634dc755bb6 button.colab-df-convert');\n",
              "        buttonEl.style.display =\n",
              "          google.colab.kernel.accessAllowed ? 'block' : 'none';\n",
              "\n",
              "        async function convertToInteractive(key) {\n",
              "          const element = document.querySelector('#df-ed159d02-4fa7-4a7f-8d71-4634dc755bb6');\n",
              "          const dataTable =\n",
              "            await google.colab.kernel.invokeFunction('convertToInteractive',\n",
              "                                                     [key], {});\n",
              "          if (!dataTable) return;\n",
              "\n",
              "          const docLinkHtml = 'Like what you see? Visit the ' +\n",
              "            '<a target=\"_blank\" href=https://colab.research.google.com/notebooks/data_table.ipynb>data table notebook</a>'\n",
              "            + ' to learn more about interactive tables.';\n",
              "          element.innerHTML = '';\n",
              "          dataTable['output_type'] = 'display_data';\n",
              "          await google.colab.output.renderOutput(dataTable, element);\n",
              "          const docLink = document.createElement('div');\n",
              "          docLink.innerHTML = docLinkHtml;\n",
              "          element.appendChild(docLink);\n",
              "        }\n",
              "      </script>\n",
              "    </div>\n",
              "  </div>\n",
              "  "
            ]
          },
          "metadata": {},
          "execution_count": 9
        }
      ]
    },
    {
      "cell_type": "code",
      "source": [
        "users.columns"
      ],
      "metadata": {
        "colab": {
          "base_uri": "https://localhost:8080/"
        },
        "id": "nslh4KgecezG",
        "outputId": "7f34a0bf-bb0c-4520-dc2f-c946037cd2b8"
      },
      "execution_count": 10,
      "outputs": [
        {
          "output_type": "execute_result",
          "data": {
            "text/plain": [
              "Index(['User-ID', 'Location', 'Age'], dtype='object')"
            ]
          },
          "metadata": {},
          "execution_count": 10
        }
      ]
    },
    {
      "cell_type": "code",
      "source": [
        "ratings.head()"
      ],
      "metadata": {
        "colab": {
          "base_uri": "https://localhost:8080/",
          "height": 206
        },
        "id": "lvsceJ9YcgBM",
        "outputId": "0a3696c7-0eab-42c5-9c2a-89afdc88e24e"
      },
      "execution_count": 11,
      "outputs": [
        {
          "output_type": "execute_result",
          "data": {
            "text/plain": [
              "   User-ID        ISBN  Book-Rating\n",
              "0   276725  034545104X            0\n",
              "1   276726  0155061224            5\n",
              "2   276727  0446520802            0\n",
              "3   276729  052165615X            3\n",
              "4   276729  0521795028            6"
            ],
            "text/html": [
              "\n",
              "  <div id=\"df-0cd0b186-6e6a-4723-a53f-7043cf3ff414\">\n",
              "    <div class=\"colab-df-container\">\n",
              "      <div>\n",
              "<style scoped>\n",
              "    .dataframe tbody tr th:only-of-type {\n",
              "        vertical-align: middle;\n",
              "    }\n",
              "\n",
              "    .dataframe tbody tr th {\n",
              "        vertical-align: top;\n",
              "    }\n",
              "\n",
              "    .dataframe thead th {\n",
              "        text-align: right;\n",
              "    }\n",
              "</style>\n",
              "<table border=\"1\" class=\"dataframe\">\n",
              "  <thead>\n",
              "    <tr style=\"text-align: right;\">\n",
              "      <th></th>\n",
              "      <th>User-ID</th>\n",
              "      <th>ISBN</th>\n",
              "      <th>Book-Rating</th>\n",
              "    </tr>\n",
              "  </thead>\n",
              "  <tbody>\n",
              "    <tr>\n",
              "      <th>0</th>\n",
              "      <td>276725</td>\n",
              "      <td>034545104X</td>\n",
              "      <td>0</td>\n",
              "    </tr>\n",
              "    <tr>\n",
              "      <th>1</th>\n",
              "      <td>276726</td>\n",
              "      <td>0155061224</td>\n",
              "      <td>5</td>\n",
              "    </tr>\n",
              "    <tr>\n",
              "      <th>2</th>\n",
              "      <td>276727</td>\n",
              "      <td>0446520802</td>\n",
              "      <td>0</td>\n",
              "    </tr>\n",
              "    <tr>\n",
              "      <th>3</th>\n",
              "      <td>276729</td>\n",
              "      <td>052165615X</td>\n",
              "      <td>3</td>\n",
              "    </tr>\n",
              "    <tr>\n",
              "      <th>4</th>\n",
              "      <td>276729</td>\n",
              "      <td>0521795028</td>\n",
              "      <td>6</td>\n",
              "    </tr>\n",
              "  </tbody>\n",
              "</table>\n",
              "</div>\n",
              "      <button class=\"colab-df-convert\" onclick=\"convertToInteractive('df-0cd0b186-6e6a-4723-a53f-7043cf3ff414')\"\n",
              "              title=\"Convert this dataframe to an interactive table.\"\n",
              "              style=\"display:none;\">\n",
              "        \n",
              "  <svg xmlns=\"http://www.w3.org/2000/svg\" height=\"24px\"viewBox=\"0 0 24 24\"\n",
              "       width=\"24px\">\n",
              "    <path d=\"M0 0h24v24H0V0z\" fill=\"none\"/>\n",
              "    <path d=\"M18.56 5.44l.94 2.06.94-2.06 2.06-.94-2.06-.94-.94-2.06-.94 2.06-2.06.94zm-11 1L8.5 8.5l.94-2.06 2.06-.94-2.06-.94L8.5 2.5l-.94 2.06-2.06.94zm10 10l.94 2.06.94-2.06 2.06-.94-2.06-.94-.94-2.06-.94 2.06-2.06.94z\"/><path d=\"M17.41 7.96l-1.37-1.37c-.4-.4-.92-.59-1.43-.59-.52 0-1.04.2-1.43.59L10.3 9.45l-7.72 7.72c-.78.78-.78 2.05 0 2.83L4 21.41c.39.39.9.59 1.41.59.51 0 1.02-.2 1.41-.59l7.78-7.78 2.81-2.81c.8-.78.8-2.07 0-2.86zM5.41 20L4 18.59l7.72-7.72 1.47 1.35L5.41 20z\"/>\n",
              "  </svg>\n",
              "      </button>\n",
              "      \n",
              "  <style>\n",
              "    .colab-df-container {\n",
              "      display:flex;\n",
              "      flex-wrap:wrap;\n",
              "      gap: 12px;\n",
              "    }\n",
              "\n",
              "    .colab-df-convert {\n",
              "      background-color: #E8F0FE;\n",
              "      border: none;\n",
              "      border-radius: 50%;\n",
              "      cursor: pointer;\n",
              "      display: none;\n",
              "      fill: #1967D2;\n",
              "      height: 32px;\n",
              "      padding: 0 0 0 0;\n",
              "      width: 32px;\n",
              "    }\n",
              "\n",
              "    .colab-df-convert:hover {\n",
              "      background-color: #E2EBFA;\n",
              "      box-shadow: 0px 1px 2px rgba(60, 64, 67, 0.3), 0px 1px 3px 1px rgba(60, 64, 67, 0.15);\n",
              "      fill: #174EA6;\n",
              "    }\n",
              "\n",
              "    [theme=dark] .colab-df-convert {\n",
              "      background-color: #3B4455;\n",
              "      fill: #D2E3FC;\n",
              "    }\n",
              "\n",
              "    [theme=dark] .colab-df-convert:hover {\n",
              "      background-color: #434B5C;\n",
              "      box-shadow: 0px 1px 3px 1px rgba(0, 0, 0, 0.15);\n",
              "      filter: drop-shadow(0px 1px 2px rgba(0, 0, 0, 0.3));\n",
              "      fill: #FFFFFF;\n",
              "    }\n",
              "  </style>\n",
              "\n",
              "      <script>\n",
              "        const buttonEl =\n",
              "          document.querySelector('#df-0cd0b186-6e6a-4723-a53f-7043cf3ff414 button.colab-df-convert');\n",
              "        buttonEl.style.display =\n",
              "          google.colab.kernel.accessAllowed ? 'block' : 'none';\n",
              "\n",
              "        async function convertToInteractive(key) {\n",
              "          const element = document.querySelector('#df-0cd0b186-6e6a-4723-a53f-7043cf3ff414');\n",
              "          const dataTable =\n",
              "            await google.colab.kernel.invokeFunction('convertToInteractive',\n",
              "                                                     [key], {});\n",
              "          if (!dataTable) return;\n",
              "\n",
              "          const docLinkHtml = 'Like what you see? Visit the ' +\n",
              "            '<a target=\"_blank\" href=https://colab.research.google.com/notebooks/data_table.ipynb>data table notebook</a>'\n",
              "            + ' to learn more about interactive tables.';\n",
              "          element.innerHTML = '';\n",
              "          dataTable['output_type'] = 'display_data';\n",
              "          await google.colab.output.renderOutput(dataTable, element);\n",
              "          const docLink = document.createElement('div');\n",
              "          docLink.innerHTML = docLinkHtml;\n",
              "          element.appendChild(docLink);\n",
              "        }\n",
              "      </script>\n",
              "    </div>\n",
              "  </div>\n",
              "  "
            ]
          },
          "metadata": {},
          "execution_count": 11
        }
      ]
    },
    {
      "cell_type": "code",
      "source": [
        "ratings.columns"
      ],
      "metadata": {
        "colab": {
          "base_uri": "https://localhost:8080/"
        },
        "id": "Uo4jMMA6chx6",
        "outputId": "e01f03c6-5272-406b-a4e7-2d936e165200"
      },
      "execution_count": 12,
      "outputs": [
        {
          "output_type": "execute_result",
          "data": {
            "text/plain": [
              "Index(['User-ID', 'ISBN', 'Book-Rating'], dtype='object')"
            ]
          },
          "metadata": {},
          "execution_count": 12
        }
      ]
    },
    {
      "cell_type": "code",
      "source": [
        "# Let's get the shape of all the 3 dataframes\n",
        "print(\"Books -\", books.shape, \" \\nUsers - \", users.shape, \" \\nRatings -\", ratings.shape)"
      ],
      "metadata": {
        "colab": {
          "base_uri": "https://localhost:8080/"
        },
        "id": "RZ3IrlLAcjQ2",
        "outputId": "396102ec-0169-4124-c965-49bf3a955aff"
      },
      "execution_count": 13,
      "outputs": [
        {
          "output_type": "stream",
          "name": "stdout",
          "text": [
            "Books - (271360, 8)  \n",
            "Users -  (278858, 3)  \n",
            "Ratings - (1149780, 3)\n"
          ]
        }
      ]
    },
    {
      "cell_type": "markdown",
      "source": [
        "From the above cell of the shape we could observer that there are nearly 270K books and 270K users have rated almost 1200K.\n",
        "\n",
        "Let's check for the missing values "
      ],
      "metadata": {
        "id": "92XPLG1vdO7m"
      }
    },
    {
      "cell_type": "code",
      "source": [
        "books.isna().sum() # isna() and isnull() both works in the same way"
      ],
      "metadata": {
        "colab": {
          "base_uri": "https://localhost:8080/"
        },
        "id": "heWFrGOFckQ6",
        "outputId": "c34b7a34-c0da-4d18-c5d7-891413089400"
      },
      "execution_count": 14,
      "outputs": [
        {
          "output_type": "execute_result",
          "data": {
            "text/plain": [
              "ISBN                   0\n",
              "Book-Title             0\n",
              "Book-Author            1\n",
              "Year-Of-Publication    0\n",
              "Publisher              2\n",
              "Image-URL-S            0\n",
              "Image-URL-M            0\n",
              "Image-URL-L            3\n",
              "dtype: int64"
            ]
          },
          "metadata": {},
          "execution_count": 14
        }
      ]
    },
    {
      "cell_type": "markdown",
      "source": [
        "There seems very few features with veryr minor values which may be dealt on the way further."
      ],
      "metadata": {
        "id": "h-RuTGAEfjxb"
      }
    },
    {
      "cell_type": "code",
      "source": [
        "users.isnull().sum()"
      ],
      "metadata": {
        "colab": {
          "base_uri": "https://localhost:8080/"
        },
        "id": "rP5VsfCbeEou",
        "outputId": "8d50a78e-bcb7-467d-8f59-0d9b4a0c74dc"
      },
      "execution_count": 15,
      "outputs": [
        {
          "output_type": "execute_result",
          "data": {
            "text/plain": [
              "User-ID          0\n",
              "Location         0\n",
              "Age         110762\n",
              "dtype: int64"
            ]
          },
          "metadata": {},
          "execution_count": 15
        }
      ]
    },
    {
      "cell_type": "markdown",
      "source": [
        "It looks like there are most missing values of the age column, but as per our approch that we will be used further this feature may be not that useful to us. So lets move forward."
      ],
      "metadata": {
        "id": "36LInswRezf1"
      }
    },
    {
      "cell_type": "code",
      "source": [
        "ratings.isna().sum()"
      ],
      "metadata": {
        "colab": {
          "base_uri": "https://localhost:8080/"
        },
        "id": "jKsvLTR6ckT3",
        "outputId": "00eaa89b-e5a4-4ce0-eeb8-c787c38d4574"
      },
      "execution_count": 16,
      "outputs": [
        {
          "output_type": "execute_result",
          "data": {
            "text/plain": [
              "User-ID        0\n",
              "ISBN           0\n",
              "Book-Rating    0\n",
              "dtype: int64"
            ]
          },
          "metadata": {},
          "execution_count": 16
        }
      ]
    },
    {
      "cell_type": "markdown",
      "source": [
        "Now, let's check if there are any duplicated values in all the features."
      ],
      "metadata": {
        "id": "4x6olDkHfxbK"
      }
    },
    {
      "cell_type": "code",
      "source": [
        "books.duplicated().sum()"
      ],
      "metadata": {
        "colab": {
          "base_uri": "https://localhost:8080/"
        },
        "id": "tlEu6LJsckW2",
        "outputId": "29f131db-4e83-47da-c97a-d026edd0b974"
      },
      "execution_count": 17,
      "outputs": [
        {
          "output_type": "execute_result",
          "data": {
            "text/plain": [
              "0"
            ]
          },
          "metadata": {},
          "execution_count": 17
        }
      ]
    },
    {
      "cell_type": "code",
      "source": [
        "users.duplicated().sum(),"
      ],
      "metadata": {
        "colab": {
          "base_uri": "https://localhost:8080/"
        },
        "id": "_3z1JqVZckZZ",
        "outputId": "ad91d11d-ee6a-4ef3-bf75-56b54ebf9bef"
      },
      "execution_count": 18,
      "outputs": [
        {
          "output_type": "execute_result",
          "data": {
            "text/plain": [
              "(0,)"
            ]
          },
          "metadata": {},
          "execution_count": 18
        }
      ]
    },
    {
      "cell_type": "code",
      "source": [
        "ratings.duplicated().sum()"
      ],
      "metadata": {
        "colab": {
          "base_uri": "https://localhost:8080/"
        },
        "id": "xm8TsCHdckcn",
        "outputId": "76b590aa-e437-4738-d8ec-29a1ba79792d"
      },
      "execution_count": 19,
      "outputs": [
        {
          "output_type": "execute_result",
          "data": {
            "text/plain": [
              "0"
            ]
          },
          "metadata": {},
          "execution_count": 19
        }
      ]
    },
    {
      "cell_type": "markdown",
      "source": [
        "## **Performing the some basic EDA**"
      ],
      "metadata": {
        "id": "QNwLN8MCt8Bs"
      }
    },
    {
      "cell_type": "code",
      "source": [
        "books.info()"
      ],
      "metadata": {
        "id": "a34r1wi-ckfl",
        "outputId": "7f0c5a96-1e9a-42d8-d951-35c6c12d4d32",
        "colab": {
          "base_uri": "https://localhost:8080/"
        }
      },
      "execution_count": null,
      "outputs": [
        {
          "output_type": "stream",
          "name": "stdout",
          "text": [
            "<class 'pandas.core.frame.DataFrame'>\n",
            "RangeIndex: 271360 entries, 0 to 271359\n",
            "Data columns (total 8 columns):\n",
            " #   Column               Non-Null Count   Dtype \n",
            "---  ------               --------------   ----- \n",
            " 0   ISBN                 271360 non-null  object\n",
            " 1   Book-Title           271360 non-null  object\n",
            " 2   Book-Author          271359 non-null  object\n",
            " 3   Year-Of-Publication  271360 non-null  object\n",
            " 4   Publisher            271358 non-null  object\n",
            " 5   Image-URL-S          271360 non-null  object\n",
            " 6   Image-URL-M          271360 non-null  object\n",
            " 7   Image-URL-L          271357 non-null  object\n",
            "dtypes: object(8)\n",
            "memory usage: 16.6+ MB\n"
          ]
        }
      ]
    },
    {
      "cell_type": "code",
      "source": [
        "users.info()"
      ],
      "metadata": {
        "id": "pjNy5r1rckjo",
        "outputId": "261ba03f-ddaf-40a2-c56c-6f5dc47dcfeb",
        "colab": {
          "base_uri": "https://localhost:8080/"
        }
      },
      "execution_count": null,
      "outputs": [
        {
          "output_type": "stream",
          "name": "stdout",
          "text": [
            "<class 'pandas.core.frame.DataFrame'>\n",
            "RangeIndex: 278858 entries, 0 to 278857\n",
            "Data columns (total 3 columns):\n",
            " #   Column    Non-Null Count   Dtype  \n",
            "---  ------    --------------   -----  \n",
            " 0   User-ID   278858 non-null  int64  \n",
            " 1   Location  278858 non-null  object \n",
            " 2   Age       168096 non-null  float64\n",
            "dtypes: float64(1), int64(1), object(1)\n",
            "memory usage: 6.4+ MB\n"
          ]
        }
      ]
    },
    {
      "cell_type": "code",
      "source": [
        "ratings.info()"
      ],
      "metadata": {
        "id": "mcfdDZUK3VXr",
        "outputId": "01457959-532c-4916-e0b1-00dd9da06483",
        "colab": {
          "base_uri": "https://localhost:8080/"
        }
      },
      "execution_count": null,
      "outputs": [
        {
          "output_type": "stream",
          "name": "stdout",
          "text": [
            "<class 'pandas.core.frame.DataFrame'>\n",
            "RangeIndex: 1149780 entries, 0 to 1149779\n",
            "Data columns (total 3 columns):\n",
            " #   Column       Non-Null Count    Dtype \n",
            "---  ------       --------------    ----- \n",
            " 0   User-ID      1149780 non-null  int64 \n",
            " 1   ISBN         1149780 non-null  object\n",
            " 2   Book-Rating  1149780 non-null  int64 \n",
            "dtypes: int64(2), object(1)\n",
            "memory usage: 26.3+ MB\n"
          ]
        }
      ]
    },
    {
      "cell_type": "markdown",
      "source": [
        "Year of publication and the publishers look like most interesting features from the books dataframe let's explore and visualize them.\n",
        "\n",
        "Above in the books.info() we observed that Year-Of-Publications is of an object -> Dtype the value are numeric values are in the string format so lets convert this data to the numeric -> Dtype\n",
        "\n"
      ],
      "metadata": {
        "id": "qevqFO3xAqA_"
      }
    },
    {
      "cell_type": "code",
      "source": [
        "books['Year-Of-Publication'].unique()"
      ],
      "metadata": {
        "id": "nUCJ0eip3WlO",
        "outputId": "845b3c01-0815-4849-a03a-16e7a25beb39",
        "colab": {
          "base_uri": "https://localhost:8080/"
        }
      },
      "execution_count": null,
      "outputs": [
        {
          "output_type": "execute_result",
          "data": {
            "text/plain": [
              "array([2002, 2001, 1991, 1999, 2000, 1993, 1996, 1988, 2004, 1998, 1994,\n",
              "       2003, 1997, 1983, 1979, 1995, 1982, 1985, 1992, 1986, 1978, 1980,\n",
              "       1952, 1987, 1990, 1981, 1989, 1984, 0, 1968, 1961, 1958, 1974,\n",
              "       1976, 1971, 1977, 1975, 1965, 1941, 1970, 1962, 1973, 1972, 1960,\n",
              "       1966, 1920, 1956, 1959, 1953, 1951, 1942, 1963, 1964, 1969, 1954,\n",
              "       1950, 1967, 2005, 1957, 1940, 1937, 1955, 1946, 1936, 1930, 2011,\n",
              "       1925, 1948, 1943, 1947, 1945, 1923, 2020, 1939, 1926, 1938, 2030,\n",
              "       1911, 1904, 1949, 1932, 1928, 1929, 1927, 1931, 1914, 2050, 1934,\n",
              "       1910, 1933, 1902, 1924, 1921, 1900, 2038, 2026, 1944, 1917, 1901,\n",
              "       2010, 1908, 1906, 1935, 1806, 2021, '2000', '1995', '1999', '2004',\n",
              "       '2003', '1990', '1994', '1986', '1989', '2002', '1981', '1993',\n",
              "       '1983', '1982', '1976', '1991', '1977', '1998', '1992', '1996',\n",
              "       '0', '1997', '2001', '1974', '1968', '1987', '1984', '1988',\n",
              "       '1963', '1956', '1970', '1985', '1978', '1973', '1980', '1979',\n",
              "       '1975', '1969', '1961', '1965', '1939', '1958', '1950', '1953',\n",
              "       '1966', '1971', '1959', '1972', '1955', '1957', '1945', '1960',\n",
              "       '1967', '1932', '1924', '1964', '2012', '1911', '1927', '1948',\n",
              "       '1962', '2006', '1952', '1940', '1951', '1931', '1954', '2005',\n",
              "       '1930', '1941', '1944', 'DK Publishing Inc', '1943', '1938',\n",
              "       '1900', '1942', '1923', '1920', '1933', 'Gallimard', '1909',\n",
              "       '1946', '2008', '1378', '2030', '1936', '1947', '2011', '2020',\n",
              "       '1919', '1949', '1922', '1897', '2024', '1376', '1926', '2037'],\n",
              "      dtype=object)"
            ]
          },
          "metadata": {},
          "execution_count": 22
        }
      ]
    },
    {
      "cell_type": "markdown",
      "source": [
        "- There seem be a numeric and string values both present in the column. \n",
        "\n",
        "- So let's remove the unnecessary samples and get most info out data."
      ],
      "metadata": {
        "id": "Sd5AU7sSnfDv"
      }
    },
    {
      "cell_type": "code",
      "source": [
        "# Removing String features sample from the complete data i.e DK Publishing Inc', 'Gallimard'\n",
        "index=books.loc[books['Year-Of-Publication']=='DK Publishing Inc'].index\n",
        "books.drop(index,inplace=True)\n",
        "index=books.loc[books['Year-Of-Publication']=='Gallimard'].index\n",
        "books.drop(index,inplace=True)\n",
        "\n",
        "# However, the string value '0' and numeric value 0 is invalid and as this dataset was published in 2004\n",
        "books['Year-Of-Publication'].replace({'0':books['Year-Of-Publication'].value_counts().idxmax()},inplace=True)\n",
        "books['Year-Of-Publication'].replace({0:books['Year-Of-Publication'].value_counts().idxmax()},inplace=True)\n",
        "\n",
        "# Converting the object dtype of the feature to the int dtype\n",
        "books['Year-Of-Publication'] = books['Year-Of-Publication'].astype(str).astype(int)\n",
        "np.sort(books['Year-Of-Publication'].unique()), len(np.sort(books['Year-Of-Publication'].unique()))"
      ],
      "metadata": {
        "colab": {
          "base_uri": "https://localhost:8080/"
        },
        "id": "NXQ7Lz8yprfM",
        "outputId": "d4e771e1-3a17-425a-947f-f3667c6b616e"
      },
      "execution_count": null,
      "outputs": [
        {
          "output_type": "execute_result",
          "data": {
            "text/plain": [
              "(array([1376, 1378, 1806, 1897, 1900, 1901, 1902, 1904, 1906, 1908, 1909,\n",
              "        1910, 1911, 1914, 1917, 1919, 1920, 1921, 1922, 1923, 1924, 1925,\n",
              "        1926, 1927, 1928, 1929, 1930, 1931, 1932, 1933, 1934, 1935, 1936,\n",
              "        1937, 1938, 1939, 1940, 1941, 1942, 1943, 1944, 1945, 1946, 1947,\n",
              "        1948, 1949, 1950, 1951, 1952, 1953, 1954, 1955, 1956, 1957, 1958,\n",
              "        1959, 1960, 1961, 1962, 1963, 1964, 1965, 1966, 1967, 1968, 1969,\n",
              "        1970, 1971, 1972, 1973, 1974, 1975, 1976, 1977, 1978, 1979, 1980,\n",
              "        1981, 1982, 1983, 1984, 1985, 1986, 1987, 1988, 1989, 1990, 1991,\n",
              "        1992, 1993, 1994, 1995, 1996, 1997, 1998, 1999, 2000, 2001, 2002,\n",
              "        2003, 2004, 2005, 2006, 2008, 2010, 2011, 2012, 2020, 2021, 2024,\n",
              "        2026, 2030, 2037, 2038, 2050]), 115)"
            ]
          },
          "metadata": {},
          "execution_count": 29
        }
      ]
    },
    {
      "cell_type": "code",
      "source": [
        "# Let's have look at what is the range of year staring and ending value present in the data\n",
        "books['Year-Of-Publication'].describe()"
      ],
      "metadata": {
        "id": "Y1U1uh6S5tUZ",
        "outputId": "d3b3a8e5-fae0-4c75-df39-036741dceb28",
        "colab": {
          "base_uri": "https://localhost:8080/"
        }
      },
      "execution_count": null,
      "outputs": [
        {
          "output_type": "execute_result",
          "data": {
            "text/plain": [
              "count    271357.000000\n",
              "mean       1993.831197\n",
              "std           8.324345\n",
              "min        1376.000000\n",
              "25%        1989.000000\n",
              "50%        1996.000000\n",
              "75%        2000.000000\n",
              "max        2050.000000\n",
              "Name: Year-Of-Publication, dtype: float64"
            ]
          },
          "metadata": {},
          "execution_count": 26
        }
      ]
    },
    {
      "cell_type": "code",
      "source": [
        "books['Year-Of-Publication'].value_counts().nunique()"
      ],
      "metadata": {
        "colab": {
          "base_uri": "https://localhost:8080/"
        },
        "id": "kIGxXd90x1HV",
        "outputId": "b9f0be14-11a3-46ac-b0ad-05990cafc783"
      },
      "execution_count": null,
      "outputs": [
        {
          "output_type": "execute_result",
          "data": {
            "text/plain": [
              "70"
            ]
          },
          "metadata": {},
          "execution_count": 27
        }
      ]
    },
    {
      "cell_type": "markdown",
      "source": [
        "Finally after processing we have data ranging form 1376 to 2050 with aboth 115 years.\n",
        "\n",
        " \n",
        "\n"
      ],
      "metadata": {
        "id": "AguQmC2RBcr7"
      }
    },
    {
      "cell_type": "markdown",
      "source": [
        "Now let's check how the data is books is distributed over the period of time using the histplot and the distplot.\n"
      ],
      "metadata": {
        "id": "NqJb2LYRIqCu"
      }
    },
    {
      "cell_type": "code",
      "source": [
        "books['Year-Of-Publication'].value_counts().unique()"
      ],
      "metadata": {
        "id": "mB4G-i-YFj9g",
        "outputId": "1c74f6d8-0d86-4558-bdd0-c4e083cd3e07",
        "colab": {
          "base_uri": "https://localhost:8080/"
        }
      },
      "execution_count": null,
      "outputs": [
        {
          "output_type": "execute_result",
          "data": {
            "text/plain": [
              "array([22245, 17431, 17359, 17232, 15766, 14890, 14358, 14030, 13546,\n",
              "       11796, 10602,  9906,  9389,  8660,  7936,  7492,  6529,  5841,\n",
              "        5839,  5343,  4986,  4499,  4197,  3279,  2676,  2208,  2131,\n",
              "        1897,  1597,  1219,  1023,   923,   772,   540,   459,   339,\n",
              "         233,   183,   176,   173,   149,   133,   132,   123,   103,\n",
              "          77,    76,    74,    70,    63,    54,    46,    40,    36,\n",
              "          34,    33,    32,    19,    14,    13,    11,    10,     9,\n",
              "           8,     7,     5,     4,     3,     2,     1])"
            ]
          },
          "metadata": {},
          "execution_count": 33
        }
      ]
    },
    {
      "cell_type": "code",
      "source": [
        "time_line = np.sort(books['Year-Of-Publication'].unique())\n",
        "time_line, len(time_line)"
      ],
      "metadata": {
        "colab": {
          "base_uri": "https://localhost:8080/"
        },
        "id": "-qCjjB_LuK8Q",
        "outputId": "99f6a5f9-79f1-4fe8-8e54-42b67556241b"
      },
      "execution_count": null,
      "outputs": [
        {
          "output_type": "execute_result",
          "data": {
            "text/plain": [
              "(array([   0, 1376, 1378, 1806, 1897, 1900, 1901, 1902, 1904, 1906, 1908,\n",
              "        1909, 1910, 1911, 1914, 1917, 1919, 1920, 1921, 1922, 1923, 1924,\n",
              "        1925, 1926, 1927, 1928, 1929, 1930, 1931, 1932, 1933, 1934, 1935,\n",
              "        1936, 1937, 1938, 1939, 1940, 1941, 1942, 1943, 1944, 1945, 1946,\n",
              "        1947, 1948, 1949, 1950, 1951, 1952, 1953, 1954, 1955, 1956, 1957,\n",
              "        1958, 1959, 1960, 1961, 1962, 1963, 1964, 1965, 1966, 1967, 1968,\n",
              "        1969, 1970, 1971, 1972, 1973, 1974, 1975, 1976, 1977, 1978, 1979,\n",
              "        1980, 1981, 1982, 1983, 1984, 1985, 1986, 1987, 1988, 1989, 1990,\n",
              "        1991, 1992, 1993, 1994, 1995, 1996, 1997, 1998, 1999, 2000, 2001,\n",
              "        2002, 2003, 2004, 2005, 2006, 2008, 2010, 2011, 2012, 2020, 2021,\n",
              "        2024, 2026, 2030, 2037, 2038, 2050]), 116)"
            ]
          },
          "metadata": {},
          "execution_count": 33
        }
      ]
    },
    {
      "cell_type": "code",
      "source": [
        "fig, (ax1, ax2) = plt.subplots(nrows=2, ncols=1, figsize=(15,10))\n",
        "sns.histplot(books['Year-Of-Publication'],bins=time_line, ax=ax1);\n",
        "plt.grid(True)\n",
        "sns.distplot(books['Year-Of-Publication'],bins=time_line, ax=ax2);\n",
        "fig.suptitle('Books data - Feature - Year of Publication - Analysis', fontsize=16);"
      ],
      "metadata": {
        "id": "UPPu5zOB5KZS",
        "outputId": "46736471-4601-48fb-8ccf-430366899cba",
        "colab": {
          "base_uri": "https://localhost:8080/",
          "height": 734
        }
      },
      "execution_count": null,
      "outputs": [
        {
          "output_type": "stream",
          "name": "stderr",
          "text": [
            "/usr/local/lib/python3.7/dist-packages/seaborn/distributions.py:2619: FutureWarning: `distplot` is a deprecated function and will be removed in a future version. Please adapt your code to use either `displot` (a figure-level function with similar flexibility) or `histplot` (an axes-level function for histograms).\n",
            "  warnings.warn(msg, FutureWarning)\n"
          ]
        },
        {
          "output_type": "display_data",
          "data": {
            "text/plain": [
              "<Figure size 1080x720 with 2 Axes>"
            ],
            "image/png": "[encoded data removed]"
          },
          "metadata": {
            "needs_background": "light"
          }
        }
      ]
    },
    {
      "cell_type": "code",
      "source": [
        "# books_1 = books[(books['Year-Of-Publication'])]\n",
        "books_1 = books[(books['Year-Of-Publication']>=1950) & (books['Year-Of-Publication']<=2016)]\n",
        "fig, ax1 = plt.subplots(nrows=1, ncols=1, figsize=(15,10))\n",
        "plt.grid(True)\n",
        "sns.distplot(books_1['Year-Of-Publication'], ax=ax1);\n",
        "fig.suptitle('Books data -> Feature - Year of Publication where data is increasing - Analysis', fontsize=16);"
      ],
      "metadata": {
        "id": "VqTc7e8_y1jc",
        "outputId": "d862a90a-f1b7-4e51-a78d-4eb934792239",
        "colab": {
          "base_uri": "https://localhost:8080/",
          "height": 734
        }
      },
      "execution_count": null,
      "outputs": [
        {
          "output_type": "stream",
          "name": "stderr",
          "text": [
            "/usr/local/lib/python3.7/dist-packages/seaborn/distributions.py:2619: FutureWarning: `distplot` is a deprecated function and will be removed in a future version. Please adapt your code to use either `displot` (a figure-level function with similar flexibility) or `histplot` (an axes-level function for histograms).\n",
            "  warnings.warn(msg, FutureWarning)\n"
          ]
        },
        {
          "output_type": "display_data",
          "data": {
            "text/plain": [
              "<Figure size 1080x720 with 1 Axes>"
            ],
            "image/png": "[encoded data removed]"
          },
          "metadata": {
            "needs_background": "light"
          }
        }
      ]
    },
    {
      "cell_type": "markdown",
      "source": [
        "From the above figures it can be observed that this datset contain most of the book published in the year of 1970 tot 2005.The graph start increasing from 1970 till 2000 and after 2000 it deacreases till 2005. \n",
        "\n",
        "And seems like nearly about more than 10% of total data of  the books are  published in the year 2000. Further let's look into the publisher.."
      ],
      "metadata": {
        "id": "QnbWxoy9KCuj"
      }
    },
    {
      "cell_type": "code",
      "source": [
        "# Lets look at the top 10 publishers with maximum no.of publications \n",
        "my_dict=(books['Publisher'].value_counts()).to_dict()\n",
        "count= pd.DataFrame(list(my_dict.items()),columns = ['Publishers_name','count'])\n",
        "publishers_name = count.sort_values(by=['count'], ascending = False)\n",
        "publishers_name.head(10)"
      ],
      "metadata": {
        "colab": {
          "base_uri": "https://localhost:8080/",
          "height": 363
        },
        "id": "EwWas2ndrkzL",
        "outputId": "8543d056-966c-4e89-bf97-5397cde038d3"
      },
      "execution_count": null,
      "outputs": [
        {
          "output_type": "execute_result",
          "data": {
            "text/plain": [
              "            Publishers_name  count\n",
              "0                 Harlequin   7535\n",
              "1                Silhouette   4220\n",
              "2                    Pocket   3905\n",
              "3          Ballantine Books   3783\n",
              "4              Bantam Books   3646\n",
              "5                Scholastic   3160\n",
              "6      Simon &amp; Schuster   2971\n",
              "7             Penguin Books   2844\n",
              "8  Berkley Publishing Group   2771\n",
              "9              Warner Books   2727"
            ],
            "text/html": [
              "\n",
              "  <div id=\"df-ccdec848-b4c5-4a8a-aa9f-7494b0fa9926\">\n",
              "    <div class=\"colab-df-container\">\n",
              "      <div>\n",
              "<style scoped>\n",
              "    .dataframe tbody tr th:only-of-type {\n",
              "        vertical-align: middle;\n",
              "    }\n",
              "\n",
              "    .dataframe tbody tr th {\n",
              "        vertical-align: top;\n",
              "    }\n",
              "\n",
              "    .dataframe thead th {\n",
              "        text-align: right;\n",
              "    }\n",
              "</style>\n",
              "<table border=\"1\" class=\"dataframe\">\n",
              "  <thead>\n",
              "    <tr style=\"text-align: right;\">\n",
              "      <th></th>\n",
              "      <th>Publishers_name</th>\n",
              "      <th>count</th>\n",
              "    </tr>\n",
              "  </thead>\n",
              "  <tbody>\n",
              "    <tr>\n",
              "      <th>0</th>\n",
              "      <td>Harlequin</td>\n",
              "      <td>7535</td>\n",
              "    </tr>\n",
              "    <tr>\n",
              "      <th>1</th>\n",
              "      <td>Silhouette</td>\n",
              "      <td>4220</td>\n",
              "    </tr>\n",
              "    <tr>\n",
              "      <th>2</th>\n",
              "      <td>Pocket</td>\n",
              "      <td>3905</td>\n",
              "    </tr>\n",
              "    <tr>\n",
              "      <th>3</th>\n",
              "      <td>Ballantine Books</td>\n",
              "      <td>3783</td>\n",
              "    </tr>\n",
              "    <tr>\n",
              "      <th>4</th>\n",
              "      <td>Bantam Books</td>\n",
              "      <td>3646</td>\n",
              "    </tr>\n",
              "    <tr>\n",
              "      <th>5</th>\n",
              "      <td>Scholastic</td>\n",
              "      <td>3160</td>\n",
              "    </tr>\n",
              "    <tr>\n",
              "      <th>6</th>\n",
              "      <td>Simon &amp;amp; Schuster</td>\n",
              "      <td>2971</td>\n",
              "    </tr>\n",
              "    <tr>\n",
              "      <th>7</th>\n",
              "      <td>Penguin Books</td>\n",
              "      <td>2844</td>\n",
              "    </tr>\n",
              "    <tr>\n",
              "      <th>8</th>\n",
              "      <td>Berkley Publishing Group</td>\n",
              "      <td>2771</td>\n",
              "    </tr>\n",
              "    <tr>\n",
              "      <th>9</th>\n",
              "      <td>Warner Books</td>\n",
              "      <td>2727</td>\n",
              "    </tr>\n",
              "  </tbody>\n",
              "</table>\n",
              "</div>\n",
              "      <button class=\"colab-df-convert\" onclick=\"convertToInteractive('df-ccdec848-b4c5-4a8a-aa9f-7494b0fa9926')\"\n",
              "              title=\"Convert this dataframe to an interactive table.\"\n",
              "              style=\"display:none;\">\n",
              "        \n",
              "  <svg xmlns=\"http://www.w3.org/2000/svg\" height=\"24px\"viewBox=\"0 0 24 24\"\n",
              "       width=\"24px\">\n",
              "    <path d=\"M0 0h24v24H0V0z\" fill=\"none\"/>\n",
              "    <path d=\"M18.56 5.44l.94 2.06.94-2.06 2.06-.94-2.06-.94-.94-2.06-.94 2.06-2.06.94zm-11 1L8.5 8.5l.94-2.06 2.06-.94-2.06-.94L8.5 2.5l-.94 2.06-2.06.94zm10 10l.94 2.06.94-2.06 2.06-.94-2.06-.94-.94-2.06-.94 2.06-2.06.94z\"/><path d=\"M17.41 7.96l-1.37-1.37c-.4-.4-.92-.59-1.43-.59-.52 0-1.04.2-1.43.59L10.3 9.45l-7.72 7.72c-.78.78-.78 2.05 0 2.83L4 21.41c.39.39.9.59 1.41.59.51 0 1.02-.2 1.41-.59l7.78-7.78 2.81-2.81c.8-.78.8-2.07 0-2.86zM5.41 20L4 18.59l7.72-7.72 1.47 1.35L5.41 20z\"/>\n",
              "  </svg>\n",
              "      </button>\n",
              "      \n",
              "  <style>\n",
              "    .colab-df-container {\n",
              "      display:flex;\n",
              "      flex-wrap:wrap;\n",
              "      gap: 12px;\n",
              "    }\n",
              "\n",
              "    .colab-df-convert {\n",
              "      background-color: #E8F0FE;\n",
              "      border: none;\n",
              "      border-radius: 50%;\n",
              "      cursor: pointer;\n",
              "      display: none;\n",
              "      fill: #1967D2;\n",
              "      height: 32px;\n",
              "      padding: 0 0 0 0;\n",
              "      width: 32px;\n",
              "    }\n",
              "\n",
              "    .colab-df-convert:hover {\n",
              "      background-color: #E2EBFA;\n",
              "      box-shadow: 0px 1px 2px rgba(60, 64, 67, 0.3), 0px 1px 3px 1px rgba(60, 64, 67, 0.15);\n",
              "      fill: #174EA6;\n",
              "    }\n",
              "\n",
              "    [theme=dark] .colab-df-convert {\n",
              "      background-color: #3B4455;\n",
              "      fill: #D2E3FC;\n",
              "    }\n",
              "\n",
              "    [theme=dark] .colab-df-convert:hover {\n",
              "      background-color: #434B5C;\n",
              "      box-shadow: 0px 1px 3px 1px rgba(0, 0, 0, 0.15);\n",
              "      filter: drop-shadow(0px 1px 2px rgba(0, 0, 0, 0.3));\n",
              "      fill: #FFFFFF;\n",
              "    }\n",
              "  </style>\n",
              "\n",
              "      <script>\n",
              "        const buttonEl =\n",
              "          document.querySelector('#df-ccdec848-b4c5-4a8a-aa9f-7494b0fa9926 button.colab-df-convert');\n",
              "        buttonEl.style.display =\n",
              "          google.colab.kernel.accessAllowed ? 'block' : 'none';\n",
              "\n",
              "        async function convertToInteractive(key) {\n",
              "          const element = document.querySelector('#df-ccdec848-b4c5-4a8a-aa9f-7494b0fa9926');\n",
              "          const dataTable =\n",
              "            await google.colab.kernel.invokeFunction('convertToInteractive',\n",
              "                                                     [key], {});\n",
              "          if (!dataTable) return;\n",
              "\n",
              "          const docLinkHtml = 'Like what you see? Visit the ' +\n",
              "            '<a target=\"_blank\" href=https://colab.research.google.com/notebooks/data_table.ipynb>data table notebook</a>'\n",
              "            + ' to learn more about interactive tables.';\n",
              "          element.innerHTML = '';\n",
              "          dataTable['output_type'] = 'display_data';\n",
              "          await google.colab.output.renderOutput(dataTable, element);\n",
              "          const docLink = document.createElement('div');\n",
              "          docLink.innerHTML = docLinkHtml;\n",
              "          element.appendChild(docLink);\n",
              "        }\n",
              "      </script>\n",
              "    </div>\n",
              "  </div>\n",
              "  "
            ]
          },
          "metadata": {},
          "execution_count": 46
        }
      ]
    },
    {
      "cell_type": "code",
      "source": [
        "labels = list(my_dict.keys())[:10]\n",
        "sizes = [count['count'].iloc[0],count['count'].iloc[1],count['count'].iloc[2],count['count'].iloc[3],count['count'].iloc[4],\n",
        "         count['count'].iloc[5],count['count'].iloc[6], count['count'].iloc[7],count['count'].iloc[8], count['count'].iloc[9]]\n",
        "explode = (0.1, 0.1, 0.1, 0.1,0.1, 0.1,0.1, 0.1, 0.1,0.1)\n",
        "fig1 , ax1 = plt.subplots(figsize=(7,7))\n",
        "ax1.pie(sizes,\n",
        "        explode = explode,\n",
        "        labels = labels,\n",
        "        autopct = '%1.1f%%',\n",
        "        shadow = True,\n",
        "        startangle = 0)\n",
        "plt.title(\"Top 10 Publishers With the Most Books\",  y=1.1) # y is just a distance which was merging with one of  the feature\n",
        "ax1.axis ('equal')\n",
        "plt.show()"
      ],
      "metadata": {
        "id": "fTEJVbgBMTwO",
        "outputId": "edd724a7-abcf-4797-817a-5f9befe56b6a",
        "colab": {
          "base_uri": "https://localhost:8080/",
          "height": 473
        }
      },
      "execution_count": null,
      "outputs": [
        {
          "output_type": "display_data",
          "data": {
            "text/plain": [
              "<Figure size 504x504 with 1 Axes>"
            ],
            "image/png": "[encoded data removed]"
          },
          "metadata": {}
        }
      ]
    },
    {
      "cell_type": "markdown",
      "source": [
        "Here we have drawn the top 10 Publishers and it could be observed that Harlequin has the max number of publication of nearly 20% of the complete books data.\n",
        "\n"
      ],
      "metadata": {
        "id": "E3Dc7xPBsmE9"
      }
    },
    {
      "cell_type": "code",
      "source": [
        ""
      ],
      "metadata": {
        "id": "5uLQcYbcNtax"
      },
      "execution_count": null,
      "outputs": []
    },
    {
      "cell_type": "markdown",
      "source": [
        "## **Popularity based Recommended System**"
      ],
      "metadata": {
        "id": "Ffg_4ywmpG0-"
      }
    },
    {
      "cell_type": "code",
      "source": [
        "ratings_with_name = ratings.merge(books, on='ISBN')\n",
        "ratings_with_name"
      ],
      "metadata": {
        "id": "l-uAjarDpKPv",
        "outputId": "85ca03b1-f55f-4d84-da3f-b9a37b37d703",
        "colab": {
          "base_uri": "https://localhost:8080/",
          "height": 783
        }
      },
      "execution_count": 22,
      "outputs": [
        {
          "output_type": "execute_result",
          "data": {
            "text/plain": [
              "         User-ID        ISBN  Book-Rating  \\\n",
              "0         276725  034545104X            0   \n",
              "1           2313  034545104X            5   \n",
              "2           6543  034545104X            0   \n",
              "3           8680  034545104X            5   \n",
              "4          10314  034545104X            9   \n",
              "...          ...         ...          ...   \n",
              "1031131   276688  0517145553            0   \n",
              "1031132   276688  1575660792            7   \n",
              "1031133   276690  0590907301            0   \n",
              "1031134   276704  0679752714            0   \n",
              "1031135   276704  0806917695            5   \n",
              "\n",
              "                                                Book-Title      Book-Author  \\\n",
              "0                                     Flesh Tones: A Novel       M. J. Rose   \n",
              "1                                     Flesh Tones: A Novel       M. J. Rose   \n",
              "2                                     Flesh Tones: A Novel       M. J. Rose   \n",
              "3                                     Flesh Tones: A Novel       M. J. Rose   \n",
              "4                                     Flesh Tones: A Novel       M. J. Rose   \n",
              "...                                                    ...              ...   \n",
              "1031131                                    Mostly Harmless    Douglas Adams   \n",
              "1031132                                        Gray Matter  Shirley Kennett   \n",
              "1031133  Triplet Trouble and the Class Trip (Triplet Tr...     Debbie Dadey   \n",
              "1031134  A Desert of Pure Feeling (Vintage Contemporaries)   Judith Freeman   \n",
              "1031135  Perplexing Lateral Thinking Puzzles: Scholasti...      Paul Sloane   \n",
              "\n",
              "        Year-Of-Publication                          Publisher  \\\n",
              "0                      2002                   Ballantine Books   \n",
              "1                      2002                   Ballantine Books   \n",
              "2                      2002                   Ballantine Books   \n",
              "3                      2002                   Ballantine Books   \n",
              "4                      2002                   Ballantine Books   \n",
              "...                     ...                                ...   \n",
              "1031131                1995             Random House Value Pub   \n",
              "1031132                1996  Kensington Publishing Corporation   \n",
              "1031133                1997                              Apple   \n",
              "1031134                1997                  Vintage Books USA   \n",
              "1031135                1997                Sterling Publishing   \n",
              "\n",
              "                                               Image-URL-S  \\\n",
              "0        http://images.amazon.com/images/P/034545104X.0...   \n",
              "1        http://images.amazon.com/images/P/034545104X.0...   \n",
              "2        http://images.amazon.com/images/P/034545104X.0...   \n",
              "3        http://images.amazon.com/images/P/034545104X.0...   \n",
              "4        http://images.amazon.com/images/P/034545104X.0...   \n",
              "...                                                    ...   \n",
              "1031131  http://images.amazon.com/images/P/0517145553.0...   \n",
              "1031132  http://images.amazon.com/images/P/1575660792.0...   \n",
              "1031133  http://images.amazon.com/images/P/0590907301.0...   \n",
              "1031134  http://images.amazon.com/images/P/0679752714.0...   \n",
              "1031135  http://images.amazon.com/images/P/0806917695.0...   \n",
              "\n",
              "                                               Image-URL-M  \\\n",
              "0        http://images.amazon.com/images/P/034545104X.0...   \n",
              "1        http://images.amazon.com/images/P/034545104X.0...   \n",
              "2        http://images.amazon.com/images/P/034545104X.0...   \n",
              "3        http://images.amazon.com/images/P/034545104X.0...   \n",
              "4        http://images.amazon.com/images/P/034545104X.0...   \n",
              "...                                                    ...   \n",
              "1031131  http://images.amazon.com/images/P/0517145553.0...   \n",
              "1031132  http://images.amazon.com/images/P/1575660792.0...   \n",
              "1031133  http://images.amazon.com/images/P/0590907301.0...   \n",
              "1031134  http://images.amazon.com/images/P/0679752714.0...   \n",
              "1031135  http://images.amazon.com/images/P/0806917695.0...   \n",
              "\n",
              "                                               Image-URL-L  \n",
              "0        http://images.amazon.com/images/P/034545104X.0...  \n",
              "1        http://images.amazon.com/images/P/034545104X.0...  \n",
              "2        http://images.amazon.com/images/P/034545104X.0...  \n",
              "3        http://images.amazon.com/images/P/034545104X.0...  \n",
              "4        http://images.amazon.com/images/P/034545104X.0...  \n",
              "...                                                    ...  \n",
              "1031131  http://images.amazon.com/images/P/0517145553.0...  \n",
              "1031132  http://images.amazon.com/images/P/1575660792.0...  \n",
              "1031133  http://images.amazon.com/images/P/0590907301.0...  \n",
              "1031134  http://images.amazon.com/images/P/0679752714.0...  \n",
              "1031135  http://images.amazon.com/images/P/0806917695.0...  \n",
              "\n",
              "[1031136 rows x 10 columns]"
            ],
            "text/html": [
              "\n",
              "  <div id=\"df-5543a7bb-6065-4371-b6c6-61a4040fc949\">\n",
              "    <div class=\"colab-df-container\">\n",
              "      <div>\n",
              "<style scoped>\n",
              "    .dataframe tbody tr th:only-of-type {\n",
              "        vertical-align: middle;\n",
              "    }\n",
              "\n",
              "    .dataframe tbody tr th {\n",
              "        vertical-align: top;\n",
              "    }\n",
              "\n",
              "    .dataframe thead th {\n",
              "        text-align: right;\n",
              "    }\n",
              "</style>\n",
              "<table border=\"1\" class=\"dataframe\">\n",
              "  <thead>\n",
              "    <tr style=\"text-align: right;\">\n",
              "      <th></th>\n",
              "      <th>User-ID</th>\n",
              "      <th>ISBN</th>\n",
              "      <th>Book-Rating</th>\n",
              "      <th>Book-Title</th>\n",
              "      <th>Book-Author</th>\n",
              "      <th>Year-Of-Publication</th>\n",
              "      <th>Publisher</th>\n",
              "      <th>Image-URL-S</th>\n",
              "      <th>Image-URL-M</th>\n",
              "      <th>Image-URL-L</th>\n",
              "    </tr>\n",
              "  </thead>\n",
              "  <tbody>\n",
              "    <tr>\n",
              "      <th>0</th>\n",
              "      <td>276725</td>\n",
              "      <td>034545104X</td>\n",
              "      <td>0</td>\n",
              "      <td>Flesh Tones: A Novel</td>\n",
              "      <td>M. J. Rose</td>\n",
              "      <td>2002</td>\n",
              "      <td>Ballantine Books</td>\n",
              "      <td>http://images.amazon.com/images/P/034545104X.0...</td>\n",
              "      <td>http://images.amazon.com/images/P/034545104X.0...</td>\n",
              "      <td>http://images.amazon.com/images/P/034545104X.0...</td>\n",
              "    </tr>\n",
              "    <tr>\n",
              "      <th>1</th>\n",
              "      <td>2313</td>\n",
              "      <td>034545104X</td>\n",
              "      <td>5</td>\n",
              "      <td>Flesh Tones: A Novel</td>\n",
              "      <td>M. J. Rose</td>\n",
              "      <td>2002</td>\n",
              "      <td>Ballantine Books</td>\n",
              "      <td>http://images.amazon.com/images/P/034545104X.0...</td>\n",
              "      <td>http://images.amazon.com/images/P/034545104X.0...</td>\n",
              "      <td>http://images.amazon.com/images/P/034545104X.0...</td>\n",
              "    </tr>\n",
              "    <tr>\n",
              "      <th>2</th>\n",
              "      <td>6543</td>\n",
              "      <td>034545104X</td>\n",
              "      <td>0</td>\n",
              "      <td>Flesh Tones: A Novel</td>\n",
              "      <td>M. J. Rose</td>\n",
              "      <td>2002</td>\n",
              "      <td>Ballantine Books</td>\n",
              "      <td>http://images.amazon.com/images/P/034545104X.0...</td>\n",
              "      <td>http://images.amazon.com/images/P/034545104X.0...</td>\n",
              "      <td>http://images.amazon.com/images/P/034545104X.0...</td>\n",
              "    </tr>\n",
              "    <tr>\n",
              "      <th>3</th>\n",
              "      <td>8680</td>\n",
              "      <td>034545104X</td>\n",
              "      <td>5</td>\n",
              "      <td>Flesh Tones: A Novel</td>\n",
              "      <td>M. J. Rose</td>\n",
              "      <td>2002</td>\n",
              "      <td>Ballantine Books</td>\n",
              "      <td>http://images.amazon.com/images/P/034545104X.0...</td>\n",
              "      <td>http://images.amazon.com/images/P/034545104X.0...</td>\n",
              "      <td>http://images.amazon.com/images/P/034545104X.0...</td>\n",
              "    </tr>\n",
              "    <tr>\n",
              "      <th>4</th>\n",
              "      <td>10314</td>\n",
              "      <td>034545104X</td>\n",
              "      <td>9</td>\n",
              "      <td>Flesh Tones: A Novel</td>\n",
              "      <td>M. J. Rose</td>\n",
              "      <td>2002</td>\n",
              "      <td>Ballantine Books</td>\n",
              "      <td>http://images.amazon.com/images/P/034545104X.0...</td>\n",
              "      <td>http://images.amazon.com/images/P/034545104X.0...</td>\n",
              "      <td>http://images.amazon.com/images/P/034545104X.0...</td>\n",
              "    </tr>\n",
              "    <tr>\n",
              "      <th>...</th>\n",
              "      <td>...</td>\n",
              "      <td>...</td>\n",
              "      <td>...</td>\n",
              "      <td>...</td>\n",
              "      <td>...</td>\n",
              "      <td>...</td>\n",
              "      <td>...</td>\n",
              "      <td>...</td>\n",
              "      <td>...</td>\n",
              "      <td>...</td>\n",
              "    </tr>\n",
              "    <tr>\n",
              "      <th>1031131</th>\n",
              "      <td>276688</td>\n",
              "      <td>0517145553</td>\n",
              "      <td>0</td>\n",
              "      <td>Mostly Harmless</td>\n",
              "      <td>Douglas Adams</td>\n",
              "      <td>1995</td>\n",
              "      <td>Random House Value Pub</td>\n",
              "      <td>http://images.amazon.com/images/P/0517145553.0...</td>\n",
              "      <td>http://images.amazon.com/images/P/0517145553.0...</td>\n",
              "      <td>http://images.amazon.com/images/P/0517145553.0...</td>\n",
              "    </tr>\n",
              "    <tr>\n",
              "      <th>1031132</th>\n",
              "      <td>276688</td>\n",
              "      <td>1575660792</td>\n",
              "      <td>7</td>\n",
              "      <td>Gray Matter</td>\n",
              "      <td>Shirley Kennett</td>\n",
              "      <td>1996</td>\n",
              "      <td>Kensington Publishing Corporation</td>\n",
              "      <td>http://images.amazon.com/images/P/1575660792.0...</td>\n",
              "      <td>http://images.amazon.com/images/P/1575660792.0...</td>\n",
              "      <td>http://images.amazon.com/images/P/1575660792.0...</td>\n",
              "    </tr>\n",
              "    <tr>\n",
              "      <th>1031133</th>\n",
              "      <td>276690</td>\n",
              "      <td>0590907301</td>\n",
              "      <td>0</td>\n",
              "      <td>Triplet Trouble and the Class Trip (Triplet Tr...</td>\n",
              "      <td>Debbie Dadey</td>\n",
              "      <td>1997</td>\n",
              "      <td>Apple</td>\n",
              "      <td>http://images.amazon.com/images/P/0590907301.0...</td>\n",
              "      <td>http://images.amazon.com/images/P/0590907301.0...</td>\n",
              "      <td>http://images.amazon.com/images/P/0590907301.0...</td>\n",
              "    </tr>\n",
              "    <tr>\n",
              "      <th>1031134</th>\n",
              "      <td>276704</td>\n",
              "      <td>0679752714</td>\n",
              "      <td>0</td>\n",
              "      <td>A Desert of Pure Feeling (Vintage Contemporaries)</td>\n",
              "      <td>Judith Freeman</td>\n",
              "      <td>1997</td>\n",
              "      <td>Vintage Books USA</td>\n",
              "      <td>http://images.amazon.com/images/P/0679752714.0...</td>\n",
              "      <td>http://images.amazon.com/images/P/0679752714.0...</td>\n",
              "      <td>http://images.amazon.com/images/P/0679752714.0...</td>\n",
              "    </tr>\n",
              "    <tr>\n",
              "      <th>1031135</th>\n",
              "      <td>276704</td>\n",
              "      <td>0806917695</td>\n",
              "      <td>5</td>\n",
              "      <td>Perplexing Lateral Thinking Puzzles: Scholasti...</td>\n",
              "      <td>Paul Sloane</td>\n",
              "      <td>1997</td>\n",
              "      <td>Sterling Publishing</td>\n",
              "      <td>http://images.amazon.com/images/P/0806917695.0...</td>\n",
              "      <td>http://images.amazon.com/images/P/0806917695.0...</td>\n",
              "      <td>http://images.amazon.com/images/P/0806917695.0...</td>\n",
              "    </tr>\n",
              "  </tbody>\n",
              "</table>\n",
              "<p>1031136 rows × 10 columns</p>\n",
              "</div>\n",
              "      <button class=\"colab-df-convert\" onclick=\"convertToInteractive('df-5543a7bb-6065-4371-b6c6-61a4040fc949')\"\n",
              "              title=\"Convert this dataframe to an interactive table.\"\n",
              "              style=\"display:none;\">\n",
              "        \n",
              "  <svg xmlns=\"http://www.w3.org/2000/svg\" height=\"24px\"viewBox=\"0 0 24 24\"\n",
              "       width=\"24px\">\n",
              "    <path d=\"M0 0h24v24H0V0z\" fill=\"none\"/>\n",
              "    <path d=\"M18.56 5.44l.94 2.06.94-2.06 2.06-.94-2.06-.94-.94-2.06-.94 2.06-2.06.94zm-11 1L8.5 8.5l.94-2.06 2.06-.94-2.06-.94L8.5 2.5l-.94 2.06-2.06.94zm10 10l.94 2.06.94-2.06 2.06-.94-2.06-.94-.94-2.06-.94 2.06-2.06.94z\"/><path d=\"M17.41 7.96l-1.37-1.37c-.4-.4-.92-.59-1.43-.59-.52 0-1.04.2-1.43.59L10.3 9.45l-7.72 7.72c-.78.78-.78 2.05 0 2.83L4 21.41c.39.39.9.59 1.41.59.51 0 1.02-.2 1.41-.59l7.78-7.78 2.81-2.81c.8-.78.8-2.07 0-2.86zM5.41 20L4 18.59l7.72-7.72 1.47 1.35L5.41 20z\"/>\n",
              "  </svg>\n",
              "      </button>\n",
              "      \n",
              "  <style>\n",
              "    .colab-df-container {\n",
              "      display:flex;\n",
              "      flex-wrap:wrap;\n",
              "      gap: 12px;\n",
              "    }\n",
              "\n",
              "    .colab-df-convert {\n",
              "      background-color: #E8F0FE;\n",
              "      border: none;\n",
              "      border-radius: 50%;\n",
              "      cursor: pointer;\n",
              "      display: none;\n",
              "      fill: #1967D2;\n",
              "      height: 32px;\n",
              "      padding: 0 0 0 0;\n",
              "      width: 32px;\n",
              "    }\n",
              "\n",
              "    .colab-df-convert:hover {\n",
              "      background-color: #E2EBFA;\n",
              "      box-shadow: 0px 1px 2px rgba(60, 64, 67, 0.3), 0px 1px 3px 1px rgba(60, 64, 67, 0.15);\n",
              "      fill: #174EA6;\n",
              "    }\n",
              "\n",
              "    [theme=dark] .colab-df-convert {\n",
              "      background-color: #3B4455;\n",
              "      fill: #D2E3FC;\n",
              "    }\n",
              "\n",
              "    [theme=dark] .colab-df-convert:hover {\n",
              "      background-color: #434B5C;\n",
              "      box-shadow: 0px 1px 3px 1px rgba(0, 0, 0, 0.15);\n",
              "      filter: drop-shadow(0px 1px 2px rgba(0, 0, 0, 0.3));\n",
              "      fill: #FFFFFF;\n",
              "    }\n",
              "  </style>\n",
              "\n",
              "      <script>\n",
              "        const buttonEl =\n",
              "          document.querySelector('#df-5543a7bb-6065-4371-b6c6-61a4040fc949 button.colab-df-convert');\n",
              "        buttonEl.style.display =\n",
              "          google.colab.kernel.accessAllowed ? 'block' : 'none';\n",
              "\n",
              "        async function convertToInteractive(key) {\n",
              "          const element = document.querySelector('#df-5543a7bb-6065-4371-b6c6-61a4040fc949');\n",
              "          const dataTable =\n",
              "            await google.colab.kernel.invokeFunction('convertToInteractive',\n",
              "                                                     [key], {});\n",
              "          if (!dataTable) return;\n",
              "\n",
              "          const docLinkHtml = 'Like what you see? Visit the ' +\n",
              "            '<a target=\"_blank\" href=https://colab.research.google.com/notebooks/data_table.ipynb>data table notebook</a>'\n",
              "            + ' to learn more about interactive tables.';\n",
              "          element.innerHTML = '';\n",
              "          dataTable['output_type'] = 'display_data';\n",
              "          await google.colab.output.renderOutput(dataTable, element);\n",
              "          const docLink = document.createElement('div');\n",
              "          docLink.innerHTML = docLinkHtml;\n",
              "          element.appendChild(docLink);\n",
              "        }\n",
              "      </script>\n",
              "    </div>\n",
              "  </div>\n",
              "  "
            ]
          },
          "metadata": {},
          "execution_count": 22
        }
      ]
    },
    {
      "cell_type": "code",
      "source": [
        "num_rating_df = ratings_with_name.groupby('Book-Title').count()['Book-Rating'].reset_index()\n",
        "num_rating_df.rename(columns={'Book-Rating':'num_ratings'}, inplace=True)\n",
        "num_rating_df\n"
      ],
      "metadata": {
        "id": "z16p9LZapbQP",
        "outputId": "8f8c65b1-c63d-4c4f-8a20-c455bde92c99",
        "colab": {
          "base_uri": "https://localhost:8080/",
          "height": 424
        }
      },
      "execution_count": 25,
      "outputs": [
        {
          "output_type": "execute_result",
          "data": {
            "text/plain": [
              "                                               Book-Title  num_ratings\n",
              "0        A Light in the Storm: The Civil War Diary of ...            4\n",
              "1                                   Always Have Popsicles            1\n",
              "2                    Apple Magic (The Collector's series)            1\n",
              "3        Ask Lily (Young Women of Faith: Lily Series, ...            1\n",
              "4        Beyond IBM: Leadership Marketing and Finance ...            1\n",
              "...                                                   ...          ...\n",
              "241066                                      Ã?Â?lpiraten.            2\n",
              "241067                     Ã?Â?rger mit Produkt X. Roman.            4\n",
              "241068                                Ã?Â?sterlich leben.            1\n",
              "241069                              Ã?Â?stlich der Berge.            3\n",
              "241070                                  Ã?Â?thique en toc            2\n",
              "\n",
              "[241071 rows x 2 columns]"
            ],
            "text/html": [
              "\n",
              "  <div id=\"df-97856f0b-0295-4ba2-a825-0afd806ed601\">\n",
              "    <div class=\"colab-df-container\">\n",
              "      <div>\n",
              "<style scoped>\n",
              "    .dataframe tbody tr th:only-of-type {\n",
              "        vertical-align: middle;\n",
              "    }\n",
              "\n",
              "    .dataframe tbody tr th {\n",
              "        vertical-align: top;\n",
              "    }\n",
              "\n",
              "    .dataframe thead th {\n",
              "        text-align: right;\n",
              "    }\n",
              "</style>\n",
              "<table border=\"1\" class=\"dataframe\">\n",
              "  <thead>\n",
              "    <tr style=\"text-align: right;\">\n",
              "      <th></th>\n",
              "      <th>Book-Title</th>\n",
              "      <th>num_ratings</th>\n",
              "    </tr>\n",
              "  </thead>\n",
              "  <tbody>\n",
              "    <tr>\n",
              "      <th>0</th>\n",
              "      <td>A Light in the Storm: The Civil War Diary of ...</td>\n",
              "      <td>4</td>\n",
              "    </tr>\n",
              "    <tr>\n",
              "      <th>1</th>\n",
              "      <td>Always Have Popsicles</td>\n",
              "      <td>1</td>\n",
              "    </tr>\n",
              "    <tr>\n",
              "      <th>2</th>\n",
              "      <td>Apple Magic (The Collector's series)</td>\n",
              "      <td>1</td>\n",
              "    </tr>\n",
              "    <tr>\n",
              "      <th>3</th>\n",
              "      <td>Ask Lily (Young Women of Faith: Lily Series, ...</td>\n",
              "      <td>1</td>\n",
              "    </tr>\n",
              "    <tr>\n",
              "      <th>4</th>\n",
              "      <td>Beyond IBM: Leadership Marketing and Finance ...</td>\n",
              "      <td>1</td>\n",
              "    </tr>\n",
              "    <tr>\n",
              "      <th>...</th>\n",
              "      <td>...</td>\n",
              "      <td>...</td>\n",
              "    </tr>\n",
              "    <tr>\n",
              "      <th>241066</th>\n",
              "      <td>Ã?Â?lpiraten.</td>\n",
              "      <td>2</td>\n",
              "    </tr>\n",
              "    <tr>\n",
              "      <th>241067</th>\n",
              "      <td>Ã?Â?rger mit Produkt X. Roman.</td>\n",
              "      <td>4</td>\n",
              "    </tr>\n",
              "    <tr>\n",
              "      <th>241068</th>\n",
              "      <td>Ã?Â?sterlich leben.</td>\n",
              "      <td>1</td>\n",
              "    </tr>\n",
              "    <tr>\n",
              "      <th>241069</th>\n",
              "      <td>Ã?Â?stlich der Berge.</td>\n",
              "      <td>3</td>\n",
              "    </tr>\n",
              "    <tr>\n",
              "      <th>241070</th>\n",
              "      <td>Ã?Â?thique en toc</td>\n",
              "      <td>2</td>\n",
              "    </tr>\n",
              "  </tbody>\n",
              "</table>\n",
              "<p>241071 rows × 2 columns</p>\n",
              "</div>\n",
              "      <button class=\"colab-df-convert\" onclick=\"convertToInteractive('df-97856f0b-0295-4ba2-a825-0afd806ed601')\"\n",
              "              title=\"Convert this dataframe to an interactive table.\"\n",
              "              style=\"display:none;\">\n",
              "        \n",
              "  <svg xmlns=\"http://www.w3.org/2000/svg\" height=\"24px\"viewBox=\"0 0 24 24\"\n",
              "       width=\"24px\">\n",
              "    <path d=\"M0 0h24v24H0V0z\" fill=\"none\"/>\n",
              "    <path d=\"M18.56 5.44l.94 2.06.94-2.06 2.06-.94-2.06-.94-.94-2.06-.94 2.06-2.06.94zm-11 1L8.5 8.5l.94-2.06 2.06-.94-2.06-.94L8.5 2.5l-.94 2.06-2.06.94zm10 10l.94 2.06.94-2.06 2.06-.94-2.06-.94-.94-2.06-.94 2.06-2.06.94z\"/><path d=\"M17.41 7.96l-1.37-1.37c-.4-.4-.92-.59-1.43-.59-.52 0-1.04.2-1.43.59L10.3 9.45l-7.72 7.72c-.78.78-.78 2.05 0 2.83L4 21.41c.39.39.9.59 1.41.59.51 0 1.02-.2 1.41-.59l7.78-7.78 2.81-2.81c.8-.78.8-2.07 0-2.86zM5.41 20L4 18.59l7.72-7.72 1.47 1.35L5.41 20z\"/>\n",
              "  </svg>\n",
              "      </button>\n",
              "      \n",
              "  <style>\n",
              "    .colab-df-container {\n",
              "      display:flex;\n",
              "      flex-wrap:wrap;\n",
              "      gap: 12px;\n",
              "    }\n",
              "\n",
              "    .colab-df-convert {\n",
              "      background-color: #E8F0FE;\n",
              "      border: none;\n",
              "      border-radius: 50%;\n",
              "      cursor: pointer;\n",
              "      display: none;\n",
              "      fill: #1967D2;\n",
              "      height: 32px;\n",
              "      padding: 0 0 0 0;\n",
              "      width: 32px;\n",
              "    }\n",
              "\n",
              "    .colab-df-convert:hover {\n",
              "      background-color: #E2EBFA;\n",
              "      box-shadow: 0px 1px 2px rgba(60, 64, 67, 0.3), 0px 1px 3px 1px rgba(60, 64, 67, 0.15);\n",
              "      fill: #174EA6;\n",
              "    }\n",
              "\n",
              "    [theme=dark] .colab-df-convert {\n",
              "      background-color: #3B4455;\n",
              "      fill: #D2E3FC;\n",
              "    }\n",
              "\n",
              "    [theme=dark] .colab-df-convert:hover {\n",
              "      background-color: #434B5C;\n",
              "      box-shadow: 0px 1px 3px 1px rgba(0, 0, 0, 0.15);\n",
              "      filter: drop-shadow(0px 1px 2px rgba(0, 0, 0, 0.3));\n",
              "      fill: #FFFFFF;\n",
              "    }\n",
              "  </style>\n",
              "\n",
              "      <script>\n",
              "        const buttonEl =\n",
              "          document.querySelector('#df-97856f0b-0295-4ba2-a825-0afd806ed601 button.colab-df-convert');\n",
              "        buttonEl.style.display =\n",
              "          google.colab.kernel.accessAllowed ? 'block' : 'none';\n",
              "\n",
              "        async function convertToInteractive(key) {\n",
              "          const element = document.querySelector('#df-97856f0b-0295-4ba2-a825-0afd806ed601');\n",
              "          const dataTable =\n",
              "            await google.colab.kernel.invokeFunction('convertToInteractive',\n",
              "                                                     [key], {});\n",
              "          if (!dataTable) return;\n",
              "\n",
              "          const docLinkHtml = 'Like what you see? Visit the ' +\n",
              "            '<a target=\"_blank\" href=https://colab.research.google.com/notebooks/data_table.ipynb>data table notebook</a>'\n",
              "            + ' to learn more about interactive tables.';\n",
              "          element.innerHTML = '';\n",
              "          dataTable['output_type'] = 'display_data';\n",
              "          await google.colab.output.renderOutput(dataTable, element);\n",
              "          const docLink = document.createElement('div');\n",
              "          docLink.innerHTML = docLinkHtml;\n",
              "          element.appendChild(docLink);\n",
              "        }\n",
              "      </script>\n",
              "    </div>\n",
              "  </div>\n",
              "  "
            ]
          },
          "metadata": {},
          "execution_count": 25
        }
      ]
    },
    {
      "cell_type": "code",
      "source": [
        "avg_rating_df = ratings_with_name.groupby('Book-Title').mean()['Book-Rating'].reset_index()\n",
        "avg_rating_df.rename(columns={'Book-Rating':'avg_rating'}, inplace=True)\n",
        "avg_rating_df\n"
      ],
      "metadata": {
        "id": "Qm9WceFSqAXI",
        "outputId": "43c0333e-8905-423f-fd8d-9e7506bca276",
        "colab": {
          "base_uri": "https://localhost:8080/",
          "height": 424
        }
      },
      "execution_count": 31,
      "outputs": [
        {
          "output_type": "execute_result",
          "data": {
            "text/plain": [
              "                                               Book-Title  avg_rating\n",
              "0        A Light in the Storm: The Civil War Diary of ...    2.250000\n",
              "1                                   Always Have Popsicles    0.000000\n",
              "2                    Apple Magic (The Collector's series)    0.000000\n",
              "3        Ask Lily (Young Women of Faith: Lily Series, ...    8.000000\n",
              "4        Beyond IBM: Leadership Marketing and Finance ...    0.000000\n",
              "...                                                   ...         ...\n",
              "241066                                      Ã?Â?lpiraten.    0.000000\n",
              "241067                     Ã?Â?rger mit Produkt X. Roman.    5.250000\n",
              "241068                                Ã?Â?sterlich leben.    7.000000\n",
              "241069                              Ã?Â?stlich der Berge.    2.666667\n",
              "241070                                  Ã?Â?thique en toc    4.000000\n",
              "\n",
              "[241071 rows x 2 columns]"
            ],
            "text/html": [
              "\n",
              "  <div id=\"df-a7a5d0d1-6588-44cc-adf2-e335c387908d\">\n",
              "    <div class=\"colab-df-container\">\n",
              "      <div>\n",
              "<style scoped>\n",
              "    .dataframe tbody tr th:only-of-type {\n",
              "        vertical-align: middle;\n",
              "    }\n",
              "\n",
              "    .dataframe tbody tr th {\n",
              "        vertical-align: top;\n",
              "    }\n",
              "\n",
              "    .dataframe thead th {\n",
              "        text-align: right;\n",
              "    }\n",
              "</style>\n",
              "<table border=\"1\" class=\"dataframe\">\n",
              "  <thead>\n",
              "    <tr style=\"text-align: right;\">\n",
              "      <th></th>\n",
              "      <th>Book-Title</th>\n",
              "      <th>avg_rating</th>\n",
              "    </tr>\n",
              "  </thead>\n",
              "  <tbody>\n",
              "    <tr>\n",
              "      <th>0</th>\n",
              "      <td>A Light in the Storm: The Civil War Diary of ...</td>\n",
              "      <td>2.250000</td>\n",
              "    </tr>\n",
              "    <tr>\n",
              "      <th>1</th>\n",
              "      <td>Always Have Popsicles</td>\n",
              "      <td>0.000000</td>\n",
              "    </tr>\n",
              "    <tr>\n",
              "      <th>2</th>\n",
              "      <td>Apple Magic (The Collector's series)</td>\n",
              "      <td>0.000000</td>\n",
              "    </tr>\n",
              "    <tr>\n",
              "      <th>3</th>\n",
              "      <td>Ask Lily (Young Women of Faith: Lily Series, ...</td>\n",
              "      <td>8.000000</td>\n",
              "    </tr>\n",
              "    <tr>\n",
              "      <th>4</th>\n",
              "      <td>Beyond IBM: Leadership Marketing and Finance ...</td>\n",
              "      <td>0.000000</td>\n",
              "    </tr>\n",
              "    <tr>\n",
              "      <th>...</th>\n",
              "      <td>...</td>\n",
              "      <td>...</td>\n",
              "    </tr>\n",
              "    <tr>\n",
              "      <th>241066</th>\n",
              "      <td>Ã?Â?lpiraten.</td>\n",
              "      <td>0.000000</td>\n",
              "    </tr>\n",
              "    <tr>\n",
              "      <th>241067</th>\n",
              "      <td>Ã?Â?rger mit Produkt X. Roman.</td>\n",
              "      <td>5.250000</td>\n",
              "    </tr>\n",
              "    <tr>\n",
              "      <th>241068</th>\n",
              "      <td>Ã?Â?sterlich leben.</td>\n",
              "      <td>7.000000</td>\n",
              "    </tr>\n",
              "    <tr>\n",
              "      <th>241069</th>\n",
              "      <td>Ã?Â?stlich der Berge.</td>\n",
              "      <td>2.666667</td>\n",
              "    </tr>\n",
              "    <tr>\n",
              "      <th>241070</th>\n",
              "      <td>Ã?Â?thique en toc</td>\n",
              "      <td>4.000000</td>\n",
              "    </tr>\n",
              "  </tbody>\n",
              "</table>\n",
              "<p>241071 rows × 2 columns</p>\n",
              "</div>\n",
              "      <button class=\"colab-df-convert\" onclick=\"convertToInteractive('df-a7a5d0d1-6588-44cc-adf2-e335c387908d')\"\n",
              "              title=\"Convert this dataframe to an interactive table.\"\n",
              "              style=\"display:none;\">\n",
              "        \n",
              "  <svg xmlns=\"http://www.w3.org/2000/svg\" height=\"24px\"viewBox=\"0 0 24 24\"\n",
              "       width=\"24px\">\n",
              "    <path d=\"M0 0h24v24H0V0z\" fill=\"none\"/>\n",
              "    <path d=\"M18.56 5.44l.94 2.06.94-2.06 2.06-.94-2.06-.94-.94-2.06-.94 2.06-2.06.94zm-11 1L8.5 8.5l.94-2.06 2.06-.94-2.06-.94L8.5 2.5l-.94 2.06-2.06.94zm10 10l.94 2.06.94-2.06 2.06-.94-2.06-.94-.94-2.06-.94 2.06-2.06.94z\"/><path d=\"M17.41 7.96l-1.37-1.37c-.4-.4-.92-.59-1.43-.59-.52 0-1.04.2-1.43.59L10.3 9.45l-7.72 7.72c-.78.78-.78 2.05 0 2.83L4 21.41c.39.39.9.59 1.41.59.51 0 1.02-.2 1.41-.59l7.78-7.78 2.81-2.81c.8-.78.8-2.07 0-2.86zM5.41 20L4 18.59l7.72-7.72 1.47 1.35L5.41 20z\"/>\n",
              "  </svg>\n",
              "      </button>\n",
              "      \n",
              "  <style>\n",
              "    .colab-df-container {\n",
              "      display:flex;\n",
              "      flex-wrap:wrap;\n",
              "      gap: 12px;\n",
              "    }\n",
              "\n",
              "    .colab-df-convert {\n",
              "      background-color: #E8F0FE;\n",
              "      border: none;\n",
              "      border-radius: 50%;\n",
              "      cursor: pointer;\n",
              "      display: none;\n",
              "      fill: #1967D2;\n",
              "      height: 32px;\n",
              "      padding: 0 0 0 0;\n",
              "      width: 32px;\n",
              "    }\n",
              "\n",
              "    .colab-df-convert:hover {\n",
              "      background-color: #E2EBFA;\n",
              "      box-shadow: 0px 1px 2px rgba(60, 64, 67, 0.3), 0px 1px 3px 1px rgba(60, 64, 67, 0.15);\n",
              "      fill: #174EA6;\n",
              "    }\n",
              "\n",
              "    [theme=dark] .colab-df-convert {\n",
              "      background-color: #3B4455;\n",
              "      fill: #D2E3FC;\n",
              "    }\n",
              "\n",
              "    [theme=dark] .colab-df-convert:hover {\n",
              "      background-color: #434B5C;\n",
              "      box-shadow: 0px 1px 3px 1px rgba(0, 0, 0, 0.15);\n",
              "      filter: drop-shadow(0px 1px 2px rgba(0, 0, 0, 0.3));\n",
              "      fill: #FFFFFF;\n",
              "    }\n",
              "  </style>\n",
              "\n",
              "      <script>\n",
              "        const buttonEl =\n",
              "          document.querySelector('#df-a7a5d0d1-6588-44cc-adf2-e335c387908d button.colab-df-convert');\n",
              "        buttonEl.style.display =\n",
              "          google.colab.kernel.accessAllowed ? 'block' : 'none';\n",
              "\n",
              "        async function convertToInteractive(key) {\n",
              "          const element = document.querySelector('#df-a7a5d0d1-6588-44cc-adf2-e335c387908d');\n",
              "          const dataTable =\n",
              "            await google.colab.kernel.invokeFunction('convertToInteractive',\n",
              "                                                     [key], {});\n",
              "          if (!dataTable) return;\n",
              "\n",
              "          const docLinkHtml = 'Like what you see? Visit the ' +\n",
              "            '<a target=\"_blank\" href=https://colab.research.google.com/notebooks/data_table.ipynb>data table notebook</a>'\n",
              "            + ' to learn more about interactive tables.';\n",
              "          element.innerHTML = '';\n",
              "          dataTable['output_type'] = 'display_data';\n",
              "          await google.colab.output.renderOutput(dataTable, element);\n",
              "          const docLink = document.createElement('div');\n",
              "          docLink.innerHTML = docLinkHtml;\n",
              "          element.appendChild(docLink);\n",
              "        }\n",
              "      </script>\n",
              "    </div>\n",
              "  </div>\n",
              "  "
            ]
          },
          "metadata": {},
          "execution_count": 31
        }
      ]
    },
    {
      "cell_type": "code",
      "source": [
        "popular_df = num_rating_df.merge(avg_rating_df, on='Book-Title')\n",
        "popular_df"
      ],
      "metadata": {
        "id": "bLfl7HdLqpis",
        "outputId": "1ead9ebc-546f-41f2-9abd-412484bff0a6",
        "colab": {
          "base_uri": "https://localhost:8080/",
          "height": 424
        }
      },
      "execution_count": 32,
      "outputs": [
        {
          "output_type": "execute_result",
          "data": {
            "text/plain": [
              "                                               Book-Title  num_ratings  \\\n",
              "0        A Light in the Storm: The Civil War Diary of ...            4   \n",
              "1                                   Always Have Popsicles            1   \n",
              "2                    Apple Magic (The Collector's series)            1   \n",
              "3        Ask Lily (Young Women of Faith: Lily Series, ...            1   \n",
              "4        Beyond IBM: Leadership Marketing and Finance ...            1   \n",
              "...                                                   ...          ...   \n",
              "241066                                      Ã?Â?lpiraten.            2   \n",
              "241067                     Ã?Â?rger mit Produkt X. Roman.            4   \n",
              "241068                                Ã?Â?sterlich leben.            1   \n",
              "241069                              Ã?Â?stlich der Berge.            3   \n",
              "241070                                  Ã?Â?thique en toc            2   \n",
              "\n",
              "        avg_rating  \n",
              "0         2.250000  \n",
              "1         0.000000  \n",
              "2         0.000000  \n",
              "3         8.000000  \n",
              "4         0.000000  \n",
              "...            ...  \n",
              "241066    0.000000  \n",
              "241067    5.250000  \n",
              "241068    7.000000  \n",
              "241069    2.666667  \n",
              "241070    4.000000  \n",
              "\n",
              "[241071 rows x 3 columns]"
            ],
            "text/html": [
              "\n",
              "  <div id=\"df-58a4d523-4a4f-4883-9fbd-e60cd459409b\">\n",
              "    <div class=\"colab-df-container\">\n",
              "      <div>\n",
              "<style scoped>\n",
              "    .dataframe tbody tr th:only-of-type {\n",
              "        vertical-align: middle;\n",
              "    }\n",
              "\n",
              "    .dataframe tbody tr th {\n",
              "        vertical-align: top;\n",
              "    }\n",
              "\n",
              "    .dataframe thead th {\n",
              "        text-align: right;\n",
              "    }\n",
              "</style>\n",
              "<table border=\"1\" class=\"dataframe\">\n",
              "  <thead>\n",
              "    <tr style=\"text-align: right;\">\n",
              "      <th></th>\n",
              "      <th>Book-Title</th>\n",
              "      <th>num_ratings</th>\n",
              "      <th>avg_rating</th>\n",
              "    </tr>\n",
              "  </thead>\n",
              "  <tbody>\n",
              "    <tr>\n",
              "      <th>0</th>\n",
              "      <td>A Light in the Storm: The Civil War Diary of ...</td>\n",
              "      <td>4</td>\n",
              "      <td>2.250000</td>\n",
              "    </tr>\n",
              "    <tr>\n",
              "      <th>1</th>\n",
              "      <td>Always Have Popsicles</td>\n",
              "      <td>1</td>\n",
              "      <td>0.000000</td>\n",
              "    </tr>\n",
              "    <tr>\n",
              "      <th>2</th>\n",
              "      <td>Apple Magic (The Collector's series)</td>\n",
              "      <td>1</td>\n",
              "      <td>0.000000</td>\n",
              "    </tr>\n",
              "    <tr>\n",
              "      <th>3</th>\n",
              "      <td>Ask Lily (Young Women of Faith: Lily Series, ...</td>\n",
              "      <td>1</td>\n",
              "      <td>8.000000</td>\n",
              "    </tr>\n",
              "    <tr>\n",
              "      <th>4</th>\n",
              "      <td>Beyond IBM: Leadership Marketing and Finance ...</td>\n",
              "      <td>1</td>\n",
              "      <td>0.000000</td>\n",
              "    </tr>\n",
              "    <tr>\n",
              "      <th>...</th>\n",
              "      <td>...</td>\n",
              "      <td>...</td>\n",
              "      <td>...</td>\n",
              "    </tr>\n",
              "    <tr>\n",
              "      <th>241066</th>\n",
              "      <td>Ã?Â?lpiraten.</td>\n",
              "      <td>2</td>\n",
              "      <td>0.000000</td>\n",
              "    </tr>\n",
              "    <tr>\n",
              "      <th>241067</th>\n",
              "      <td>Ã?Â?rger mit Produkt X. Roman.</td>\n",
              "      <td>4</td>\n",
              "      <td>5.250000</td>\n",
              "    </tr>\n",
              "    <tr>\n",
              "      <th>241068</th>\n",
              "      <td>Ã?Â?sterlich leben.</td>\n",
              "      <td>1</td>\n",
              "      <td>7.000000</td>\n",
              "    </tr>\n",
              "    <tr>\n",
              "      <th>241069</th>\n",
              "      <td>Ã?Â?stlich der Berge.</td>\n",
              "      <td>3</td>\n",
              "      <td>2.666667</td>\n",
              "    </tr>\n",
              "    <tr>\n",
              "      <th>241070</th>\n",
              "      <td>Ã?Â?thique en toc</td>\n",
              "      <td>2</td>\n",
              "      <td>4.000000</td>\n",
              "    </tr>\n",
              "  </tbody>\n",
              "</table>\n",
              "<p>241071 rows × 3 columns</p>\n",
              "</div>\n",
              "      <button class=\"colab-df-convert\" onclick=\"convertToInteractive('df-58a4d523-4a4f-4883-9fbd-e60cd459409b')\"\n",
              "              title=\"Convert this dataframe to an interactive table.\"\n",
              "              style=\"display:none;\">\n",
              "        \n",
              "  <svg xmlns=\"http://www.w3.org/2000/svg\" height=\"24px\"viewBox=\"0 0 24 24\"\n",
              "       width=\"24px\">\n",
              "    <path d=\"M0 0h24v24H0V0z\" fill=\"none\"/>\n",
              "    <path d=\"M18.56 5.44l.94 2.06.94-2.06 2.06-.94-2.06-.94-.94-2.06-.94 2.06-2.06.94zm-11 1L8.5 8.5l.94-2.06 2.06-.94-2.06-.94L8.5 2.5l-.94 2.06-2.06.94zm10 10l.94 2.06.94-2.06 2.06-.94-2.06-.94-.94-2.06-.94 2.06-2.06.94z\"/><path d=\"M17.41 7.96l-1.37-1.37c-.4-.4-.92-.59-1.43-.59-.52 0-1.04.2-1.43.59L10.3 9.45l-7.72 7.72c-.78.78-.78 2.05 0 2.83L4 21.41c.39.39.9.59 1.41.59.51 0 1.02-.2 1.41-.59l7.78-7.78 2.81-2.81c.8-.78.8-2.07 0-2.86zM5.41 20L4 18.59l7.72-7.72 1.47 1.35L5.41 20z\"/>\n",
              "  </svg>\n",
              "      </button>\n",
              "      \n",
              "  <style>\n",
              "    .colab-df-container {\n",
              "      display:flex;\n",
              "      flex-wrap:wrap;\n",
              "      gap: 12px;\n",
              "    }\n",
              "\n",
              "    .colab-df-convert {\n",
              "      background-color: #E8F0FE;\n",
              "      border: none;\n",
              "      border-radius: 50%;\n",
              "      cursor: pointer;\n",
              "      display: none;\n",
              "      fill: #1967D2;\n",
              "      height: 32px;\n",
              "      padding: 0 0 0 0;\n",
              "      width: 32px;\n",
              "    }\n",
              "\n",
              "    .colab-df-convert:hover {\n",
              "      background-color: #E2EBFA;\n",
              "      box-shadow: 0px 1px 2px rgba(60, 64, 67, 0.3), 0px 1px 3px 1px rgba(60, 64, 67, 0.15);\n",
              "      fill: #174EA6;\n",
              "    }\n",
              "\n",
              "    [theme=dark] .colab-df-convert {\n",
              "      background-color: #3B4455;\n",
              "      fill: #D2E3FC;\n",
              "    }\n",
              "\n",
              "    [theme=dark] .colab-df-convert:hover {\n",
              "      background-color: #434B5C;\n",
              "      box-shadow: 0px 1px 3px 1px rgba(0, 0, 0, 0.15);\n",
              "      filter: drop-shadow(0px 1px 2px rgba(0, 0, 0, 0.3));\n",
              "      fill: #FFFFFF;\n",
              "    }\n",
              "  </style>\n",
              "\n",
              "      <script>\n",
              "        const buttonEl =\n",
              "          document.querySelector('#df-58a4d523-4a4f-4883-9fbd-e60cd459409b button.colab-df-convert');\n",
              "        buttonEl.style.display =\n",
              "          google.colab.kernel.accessAllowed ? 'block' : 'none';\n",
              "\n",
              "        async function convertToInteractive(key) {\n",
              "          const element = document.querySelector('#df-58a4d523-4a4f-4883-9fbd-e60cd459409b');\n",
              "          const dataTable =\n",
              "            await google.colab.kernel.invokeFunction('convertToInteractive',\n",
              "                                                     [key], {});\n",
              "          if (!dataTable) return;\n",
              "\n",
              "          const docLinkHtml = 'Like what you see? Visit the ' +\n",
              "            '<a target=\"_blank\" href=https://colab.research.google.com/notebooks/data_table.ipynb>data table notebook</a>'\n",
              "            + ' to learn more about interactive tables.';\n",
              "          element.innerHTML = '';\n",
              "          dataTable['output_type'] = 'display_data';\n",
              "          await google.colab.output.renderOutput(dataTable, element);\n",
              "          const docLink = document.createElement('div');\n",
              "          docLink.innerHTML = docLinkHtml;\n",
              "          element.appendChild(docLink);\n",
              "        }\n",
              "      </script>\n",
              "    </div>\n",
              "  </div>\n",
              "  "
            ]
          },
          "metadata": {},
          "execution_count": 32
        }
      ]
    },
    {
      "cell_type": "code",
      "source": [
        "popular_df = popular_df[popular_df['num_ratings']>=250].sort_values('avg_rating', ascending=False).head(50)"
      ],
      "metadata": {
        "id": "yOs2s7bkq08f"
      },
      "execution_count": 36,
      "outputs": []
    },
    {
      "cell_type": "code",
      "source": [
        "popular_df = popular_df.merge(books, on='Book-Title').drop_duplicates('Book-Title')[['Book-Title', 'Book-Author', 'Image-URL-M', 'num_ratings', 'avg_rating']]"
      ],
      "metadata": {
        "id": "f4QK7usXrOzp"
      },
      "execution_count": 39,
      "outputs": []
    },
    {
      "cell_type": "code",
      "source": [
        "popular_df"
      ],
      "metadata": {
        "id": "EZ6ezR2nr4hm",
        "outputId": "10dce31e-c39c-425a-cf3c-acad613fe0d0",
        "colab": {
          "base_uri": "https://localhost:8080/",
          "height": 1000
        }
      },
      "execution_count": 42,
      "outputs": [
        {
          "output_type": "execute_result",
          "data": {
            "text/plain": [
              "                                            Book-Title  \\\n",
              "0    Harry Potter and the Prisoner of Azkaban (Book 3)   \n",
              "3         Harry Potter and the Goblet of Fire (Book 4)   \n",
              "5       Harry Potter and the Sorcerer's Stone (Book 1)   \n",
              "9    Harry Potter and the Order of the Phoenix (Boo...   \n",
              "13    Harry Potter and the Chamber of Secrets (Book 2)   \n",
              "16   The Hobbit : The Enchanting Prelude to The Lor...   \n",
              "17   The Fellowship of the Ring (The Lord of the Ri...   \n",
              "26   Harry Potter and the Sorcerer's Stone (Harry P...   \n",
              "28      The Two Towers (The Lord of the Rings, Part 2)   \n",
              "39                               To Kill a Mockingbird   \n",
              "47                                   The Da Vinci Code   \n",
              "53                  The Five People You Meet in Heaven   \n",
              "55                              The Catcher in the Rye   \n",
              "62                           The Lovely Bones: A Novel   \n",
              "63                                                1984   \n",
              "72                            Prodigal Summer: A Novel   \n",
              "73                                          Neverwhere   \n",
              "78                             The Secret Life of Bees   \n",
              "84   Stupid White Men ...and Other Sorry Excuses fo...   \n",
              "85   Tuesdays with Morrie: An Old Man, a Young Man,...   \n",
              "88                 The Red Tent (Bestselling Backlist)   \n",
              "89                The Hitchhiker's Guide to the Galaxy   \n",
              "98    Nickel and Dimed: On (Not) Getting By in America   \n",
              "100                                      Into the Wild   \n",
              "103                                     Fahrenheit 451   \n",
              "116                          Girl with a Pearl Earring   \n",
              "117                                          Outlander   \n",
              "123  Where the Heart Is (Oprah's Book Club (Paperba...   \n",
              "124                     Seabiscuit: An American Legend   \n",
              "126                                         Life of Pi   \n",
              "130                                     The Bean Trees   \n",
              "133  A Child Called \\It\\\": One Child's Courage to S...   \n",
              "135                                     ANGELA'S ASHES   \n",
              "137                                        Good in Bed   \n",
              "139  Fast Food Nation: The Dark Side of the All-Ame...   \n",
              "140                                      American Gods   \n",
              "141                                 Skipping Christmas   \n",
              "147  Left Behind: A Novel of the Earth's Last Days ...   \n",
              "149    The Golden Compass (His Dark Materials, Book 1)   \n",
              "157                                   The Color Purple   \n",
              "163                               Silence of the Lambs   \n",
              "166                                        About a Boy   \n",
              "173                  Seven Up (A Stephanie Plum Novel)   \n",
              "175  The Alchemist: A Fable About Following Your Dream   \n",
              "177  Hard Eight : A Stephanie Plum Novel (A Stephan...   \n",
              "182                       Suzanne's Diary for Nicholas   \n",
              "186                                  Lord of the Flies   \n",
              "192                            A Prayer for Owen Meany   \n",
              "194   The Vampire Lestat (Vampire Chronicles, Book II)   \n",
              "195       White Oleander : A Novel (Oprah's Book Club)   \n",
              "\n",
              "                Book-Author  \\\n",
              "0             J. K. Rowling   \n",
              "3             J. K. Rowling   \n",
              "5             J. K. Rowling   \n",
              "9             J. K. Rowling   \n",
              "13            J. K. Rowling   \n",
              "16           J.R.R. TOLKIEN   \n",
              "17           J.R.R. TOLKIEN   \n",
              "26            J. K. Rowling   \n",
              "28           J.R.R. TOLKIEN   \n",
              "39               Harper Lee   \n",
              "47                Dan Brown   \n",
              "53              Mitch Albom   \n",
              "55            J.D. Salinger   \n",
              "62             Alice Sebold   \n",
              "63            George Orwell   \n",
              "72       Barbara Kingsolver   \n",
              "73              Neil Gaiman   \n",
              "78            Sue Monk Kidd   \n",
              "84            Michael Moore   \n",
              "85              MITCH ALBOM   \n",
              "88            Anita Diamant   \n",
              "89            Douglas Adams   \n",
              "98       Barbara Ehrenreich   \n",
              "100            Jon Krakauer   \n",
              "103            Ray Bradbury   \n",
              "116         Tracy Chevalier   \n",
              "117          DIANA GABALDON   \n",
              "123            Billie Letts   \n",
              "124       LAURA HILLENBRAND   \n",
              "126             Yann Martel   \n",
              "130      Barbara Kingsolver   \n",
              "133             Dave Pelzer   \n",
              "135           Frank McCourt   \n",
              "137         Jennifer Weiner   \n",
              "139          Eric Schlosser   \n",
              "140             Neil Gaiman   \n",
              "141            JOHN GRISHAM   \n",
              "147              Tim Lahaye   \n",
              "149          PHILIP PULLMAN   \n",
              "157            Alice Walker   \n",
              "163           Thomas Harris   \n",
              "166             Nick Hornby   \n",
              "173         Janet Evanovich   \n",
              "175            Paulo Coelho   \n",
              "177         Janet Evanovich   \n",
              "182         James Patterson   \n",
              "186  William Gerald Golding   \n",
              "192             John Irving   \n",
              "194               ANNE RICE   \n",
              "195             Janet Fitch   \n",
              "\n",
              "                                           Image-URL-M  num_ratings  \\\n",
              "0    http://images.amazon.com/images/P/0439136350.0...          428   \n",
              "3    http://images.amazon.com/images/P/0439139597.0...          387   \n",
              "5    http://images.amazon.com/images/P/0590353403.0...          278   \n",
              "9    http://images.amazon.com/images/P/043935806X.0...          347   \n",
              "13   http://images.amazon.com/images/P/0439064872.0...          556   \n",
              "16   http://images.amazon.com/images/P/0345339681.0...          281   \n",
              "17   http://images.amazon.com/images/P/0345339703.0...          368   \n",
              "26   http://images.amazon.com/images/P/059035342X.0...          575   \n",
              "28   http://images.amazon.com/images/P/0345339711.0...          260   \n",
              "39   http://images.amazon.com/images/P/0446310786.0...          510   \n",
              "47   http://images.amazon.com/images/P/0385504209.0...          898   \n",
              "53   http://images.amazon.com/images/P/0786868716.0...          430   \n",
              "55   http://images.amazon.com/images/P/0316769487.0...          449   \n",
              "62   http://images.amazon.com/images/P/0316666343.0...         1295   \n",
              "63   http://images.amazon.com/images/P/0451524934.0...          284   \n",
              "72   http://images.amazon.com/images/P/0060959037.0...          253   \n",
              "73   http://images.amazon.com/images/P/0380789019.0...          265   \n",
              "78   http://images.amazon.com/images/P/0142001740.0...          774   \n",
              "84   http://images.amazon.com/images/P/0060392452.0...          283   \n",
              "85   http://images.amazon.com/images/P/0385484518.0...          493   \n",
              "88   http://images.amazon.com/images/P/0312195516.0...          723   \n",
              "89   http://images.amazon.com/images/P/0671461494.0...          268   \n",
              "98   http://images.amazon.com/images/P/0805063897.0...          335   \n",
              "100  http://images.amazon.com/images/P/0385486804.0...          252   \n",
              "103  http://images.amazon.com/images/P/3257208626.0...          409   \n",
              "116  http://images.amazon.com/images/P/0452282152.0...          526   \n",
              "117  http://images.amazon.com/images/P/0440222915.0...          283   \n",
              "123  http://images.amazon.com/images/P/0446672211.0...          585   \n",
              "124  http://images.amazon.com/images/P/0449005615.0...          275   \n",
              "126  http://images.amazon.com/images/P/0151008116.0...          664   \n",
              "130  http://images.amazon.com/images/P/0060915544.0...          389   \n",
              "133  http://images.amazon.com/images/P/1558743669.0...          265   \n",
              "135  http://images.amazon.com/images/P/0684874350.0...          279   \n",
              "137  http://images.amazon.com/images/P/0743418174.0...          490   \n",
              "139  http://images.amazon.com/images/P/0060938455.0...          321   \n",
              "140  http://images.amazon.com/images/P/0380789035.0...          302   \n",
              "141  http://images.amazon.com/images/P/0385505833.0...          322   \n",
              "147  http://images.amazon.com/images/P/0842329129.0...          318   \n",
              "149  http://images.amazon.com/images/P/037582345X.0...          336   \n",
              "157  http://images.amazon.com/images/P/0671617028.0...          314   \n",
              "163  http://images.amazon.com/images/P/0312924585.0...          256   \n",
              "166  http://images.amazon.com/images/P/1573227331.0...          262   \n",
              "173  http://images.amazon.com/images/P/0312265840.0...          278   \n",
              "175  http://images.amazon.com/images/P/0062502174.0...          266   \n",
              "177  http://images.amazon.com/images/P/0312983867.0...          269   \n",
              "182  http://images.amazon.com/images/P/0316969443.0...          457   \n",
              "186  http://images.amazon.com/images/P/0399501487.0...          259   \n",
              "192  http://images.amazon.com/images/P/0345361792.0...          413   \n",
              "194  http://images.amazon.com/images/P/0345313860.0...          301   \n",
              "195  http://images.amazon.com/images/P/0316284955.0...          356   \n",
              "\n",
              "     avg_rating  \n",
              "0      5.852804  \n",
              "3      5.824289  \n",
              "5      5.737410  \n",
              "9      5.501441  \n",
              "13     5.183453  \n",
              "16     5.007117  \n",
              "17     4.948370  \n",
              "26     4.895652  \n",
              "28     4.880769  \n",
              "39     4.700000  \n",
              "47     4.642539  \n",
              "53     4.551163  \n",
              "55     4.545657  \n",
              "62     4.468726  \n",
              "63     4.454225  \n",
              "72     4.450593  \n",
              "73     4.449057  \n",
              "78     4.447028  \n",
              "84     4.356890  \n",
              "85     4.354970  \n",
              "88     4.334716  \n",
              "89     4.328358  \n",
              "98     4.289552  \n",
              "100    4.273810  \n",
              "103    4.264059  \n",
              "116    4.218631  \n",
              "117    4.173145  \n",
              "123    4.105983  \n",
              "124    4.098182  \n",
              "126    4.088855  \n",
              "130    4.087404  \n",
              "133    4.086792  \n",
              "135    4.075269  \n",
              "137    4.055102  \n",
              "139    4.037383  \n",
              "140    4.006623  \n",
              "141    4.006211  \n",
              "147    4.003145  \n",
              "149    4.000000  \n",
              "157    3.964968  \n",
              "163    3.960938  \n",
              "166    3.900763  \n",
              "173    3.888489  \n",
              "175    3.875940  \n",
              "177    3.825279  \n",
              "182    3.820569  \n",
              "186    3.818533  \n",
              "192    3.796610  \n",
              "194    3.777409  \n",
              "195    3.772472  "
            ],
            "text/html": [
              "\n",
              "  <div id=\"df-ec485e35-686f-4548-b6db-a71ad935c49d\">\n",
              "    <div class=\"colab-df-container\">\n",
              "      <div>\n",
              "<style scoped>\n",
              "    .dataframe tbody tr th:only-of-type {\n",
              "        vertical-align: middle;\n",
              "    }\n",
              "\n",
              "    .dataframe tbody tr th {\n",
              "        vertical-align: top;\n",
              "    }\n",
              "\n",
              "    .dataframe thead th {\n",
              "        text-align: right;\n",
              "    }\n",
              "</style>\n",
              "<table border=\"1\" class=\"dataframe\">\n",
              "  <thead>\n",
              "    <tr style=\"text-align: right;\">\n",
              "      <th></th>\n",
              "      <th>Book-Title</th>\n",
              "      <th>Book-Author</th>\n",
              "      <th>Image-URL-M</th>\n",
              "      <th>num_ratings</th>\n",
              "      <th>avg_rating</th>\n",
              "    </tr>\n",
              "  </thead>\n",
              "  <tbody>\n",
              "    <tr>\n",
              "      <th>0</th>\n",
              "      <td>Harry Potter and the Prisoner of Azkaban (Book 3)</td>\n",
              "      <td>J. K. Rowling</td>\n",
              "      <td>http://images.amazon.com/images/P/0439136350.0...</td>\n",
              "      <td>428</td>\n",
              "      <td>5.852804</td>\n",
              "    </tr>\n",
              "    <tr>\n",
              "      <th>3</th>\n",
              "      <td>Harry Potter and the Goblet of Fire (Book 4)</td>\n",
              "      <td>J. K. Rowling</td>\n",
              "      <td>http://images.amazon.com/images/P/0439139597.0...</td>\n",
              "      <td>387</td>\n",
              "      <td>5.824289</td>\n",
              "    </tr>\n",
              "    <tr>\n",
              "      <th>5</th>\n",
              "      <td>Harry Potter and the Sorcerer's Stone (Book 1)</td>\n",
              "      <td>J. K. Rowling</td>\n",
              "      <td>http://images.amazon.com/images/P/0590353403.0...</td>\n",
              "      <td>278</td>\n",
              "      <td>5.737410</td>\n",
              "    </tr>\n",
              "    <tr>\n",
              "      <th>9</th>\n",
              "      <td>Harry Potter and the Order of the Phoenix (Boo...</td>\n",
              "      <td>J. K. Rowling</td>\n",
              "      <td>http://images.amazon.com/images/P/043935806X.0...</td>\n",
              "      <td>347</td>\n",
              "      <td>5.501441</td>\n",
              "    </tr>\n",
              "    <tr>\n",
              "      <th>13</th>\n",
              "      <td>Harry Potter and the Chamber of Secrets (Book 2)</td>\n",
              "      <td>J. K. Rowling</td>\n",
              "      <td>http://images.amazon.com/images/P/0439064872.0...</td>\n",
              "      <td>556</td>\n",
              "      <td>5.183453</td>\n",
              "    </tr>\n",
              "    <tr>\n",
              "      <th>16</th>\n",
              "      <td>The Hobbit : The Enchanting Prelude to The Lor...</td>\n",
              "      <td>J.R.R. TOLKIEN</td>\n",
              "      <td>http://images.amazon.com/images/P/0345339681.0...</td>\n",
              "      <td>281</td>\n",
              "      <td>5.007117</td>\n",
              "    </tr>\n",
              "    <tr>\n",
              "      <th>17</th>\n",
              "      <td>The Fellowship of the Ring (The Lord of the Ri...</td>\n",
              "      <td>J.R.R. TOLKIEN</td>\n",
              "      <td>http://images.amazon.com/images/P/0345339703.0...</td>\n",
              "      <td>368</td>\n",
              "      <td>4.948370</td>\n",
              "    </tr>\n",
              "    <tr>\n",
              "      <th>26</th>\n",
              "      <td>Harry Potter and the Sorcerer's Stone (Harry P...</td>\n",
              "      <td>J. K. Rowling</td>\n",
              "      <td>http://images.amazon.com/images/P/059035342X.0...</td>\n",
              "      <td>575</td>\n",
              "      <td>4.895652</td>\n",
              "    </tr>\n",
              "    <tr>\n",
              "      <th>28</th>\n",
              "      <td>The Two Towers (The Lord of the Rings, Part 2)</td>\n",
              "      <td>J.R.R. TOLKIEN</td>\n",
              "      <td>http://images.amazon.com/images/P/0345339711.0...</td>\n",
              "      <td>260</td>\n",
              "      <td>4.880769</td>\n",
              "    </tr>\n",
              "    <tr>\n",
              "      <th>39</th>\n",
              "      <td>To Kill a Mockingbird</td>\n",
              "      <td>Harper Lee</td>\n",
              "      <td>http://images.amazon.com/images/P/0446310786.0...</td>\n",
              "      <td>510</td>\n",
              "      <td>4.700000</td>\n",
              "    </tr>\n",
              "    <tr>\n",
              "      <th>47</th>\n",
              "      <td>The Da Vinci Code</td>\n",
              "      <td>Dan Brown</td>\n",
              "      <td>http://images.amazon.com/images/P/0385504209.0...</td>\n",
              "      <td>898</td>\n",
              "      <td>4.642539</td>\n",
              "    </tr>\n",
              "    <tr>\n",
              "      <th>53</th>\n",
              "      <td>The Five People You Meet in Heaven</td>\n",
              "      <td>Mitch Albom</td>\n",
              "      <td>http://images.amazon.com/images/P/0786868716.0...</td>\n",
              "      <td>430</td>\n",
              "      <td>4.551163</td>\n",
              "    </tr>\n",
              "    <tr>\n",
              "      <th>55</th>\n",
              "      <td>The Catcher in the Rye</td>\n",
              "      <td>J.D. Salinger</td>\n",
              "      <td>http://images.amazon.com/images/P/0316769487.0...</td>\n",
              "      <td>449</td>\n",
              "      <td>4.545657</td>\n",
              "    </tr>\n",
              "    <tr>\n",
              "      <th>62</th>\n",
              "      <td>The Lovely Bones: A Novel</td>\n",
              "      <td>Alice Sebold</td>\n",
              "      <td>http://images.amazon.com/images/P/0316666343.0...</td>\n",
              "      <td>1295</td>\n",
              "      <td>4.468726</td>\n",
              "    </tr>\n",
              "    <tr>\n",
              "      <th>63</th>\n",
              "      <td>1984</td>\n",
              "      <td>George Orwell</td>\n",
              "      <td>http://images.amazon.com/images/P/0451524934.0...</td>\n",
              "      <td>284</td>\n",
              "      <td>4.454225</td>\n",
              "    </tr>\n",
              "    <tr>\n",
              "      <th>72</th>\n",
              "      <td>Prodigal Summer: A Novel</td>\n",
              "      <td>Barbara Kingsolver</td>\n",
              "      <td>http://images.amazon.com/images/P/0060959037.0...</td>\n",
              "      <td>253</td>\n",
              "      <td>4.450593</td>\n",
              "    </tr>\n",
              "    <tr>\n",
              "      <th>73</th>\n",
              "      <td>Neverwhere</td>\n",
              "      <td>Neil Gaiman</td>\n",
              "      <td>http://images.amazon.com/images/P/0380789019.0...</td>\n",
              "      <td>265</td>\n",
              "      <td>4.449057</td>\n",
              "    </tr>\n",
              "    <tr>\n",
              "      <th>78</th>\n",
              "      <td>The Secret Life of Bees</td>\n",
              "      <td>Sue Monk Kidd</td>\n",
              "      <td>http://images.amazon.com/images/P/0142001740.0...</td>\n",
              "      <td>774</td>\n",
              "      <td>4.447028</td>\n",
              "    </tr>\n",
              "    <tr>\n",
              "      <th>84</th>\n",
              "      <td>Stupid White Men ...and Other Sorry Excuses fo...</td>\n",
              "      <td>Michael Moore</td>\n",
              "      <td>http://images.amazon.com/images/P/0060392452.0...</td>\n",
              "      <td>283</td>\n",
              "      <td>4.356890</td>\n",
              "    </tr>\n",
              "    <tr>\n",
              "      <th>85</th>\n",
              "      <td>Tuesdays with Morrie: An Old Man, a Young Man,...</td>\n",
              "      <td>MITCH ALBOM</td>\n",
              "      <td>http://images.amazon.com/images/P/0385484518.0...</td>\n",
              "      <td>493</td>\n",
              "      <td>4.354970</td>\n",
              "    </tr>\n",
              "    <tr>\n",
              "      <th>88</th>\n",
              "      <td>The Red Tent (Bestselling Backlist)</td>\n",
              "      <td>Anita Diamant</td>\n",
              "      <td>http://images.amazon.com/images/P/0312195516.0...</td>\n",
              "      <td>723</td>\n",
              "      <td>4.334716</td>\n",
              "    </tr>\n",
              "    <tr>\n",
              "      <th>89</th>\n",
              "      <td>The Hitchhiker's Guide to the Galaxy</td>\n",
              "      <td>Douglas Adams</td>\n",
              "      <td>http://images.amazon.com/images/P/0671461494.0...</td>\n",
              "      <td>268</td>\n",
              "      <td>4.328358</td>\n",
              "    </tr>\n",
              "    <tr>\n",
              "      <th>98</th>\n",
              "      <td>Nickel and Dimed: On (Not) Getting By in America</td>\n",
              "      <td>Barbara Ehrenreich</td>\n",
              "      <td>http://images.amazon.com/images/P/0805063897.0...</td>\n",
              "      <td>335</td>\n",
              "      <td>4.289552</td>\n",
              "    </tr>\n",
              "    <tr>\n",
              "      <th>100</th>\n",
              "      <td>Into the Wild</td>\n",
              "      <td>Jon Krakauer</td>\n",
              "      <td>http://images.amazon.com/images/P/0385486804.0...</td>\n",
              "      <td>252</td>\n",
              "      <td>4.273810</td>\n",
              "    </tr>\n",
              "    <tr>\n",
              "      <th>103</th>\n",
              "      <td>Fahrenheit 451</td>\n",
              "      <td>Ray Bradbury</td>\n",
              "      <td>http://images.amazon.com/images/P/3257208626.0...</td>\n",
              "      <td>409</td>\n",
              "      <td>4.264059</td>\n",
              "    </tr>\n",
              "    <tr>\n",
              "      <th>116</th>\n",
              "      <td>Girl with a Pearl Earring</td>\n",
              "      <td>Tracy Chevalier</td>\n",
              "      <td>http://images.amazon.com/images/P/0452282152.0...</td>\n",
              "      <td>526</td>\n",
              "      <td>4.218631</td>\n",
              "    </tr>\n",
              "    <tr>\n",
              "      <th>117</th>\n",
              "      <td>Outlander</td>\n",
              "      <td>DIANA GABALDON</td>\n",
              "      <td>http://images.amazon.com/images/P/0440222915.0...</td>\n",
              "      <td>283</td>\n",
              "      <td>4.173145</td>\n",
              "    </tr>\n",
              "    <tr>\n",
              "      <th>123</th>\n",
              "      <td>Where the Heart Is (Oprah's Book Club (Paperba...</td>\n",
              "      <td>Billie Letts</td>\n",
              "      <td>http://images.amazon.com/images/P/0446672211.0...</td>\n",
              "      <td>585</td>\n",
              "      <td>4.105983</td>\n",
              "    </tr>\n",
              "    <tr>\n",
              "      <th>124</th>\n",
              "      <td>Seabiscuit: An American Legend</td>\n",
              "      <td>LAURA HILLENBRAND</td>\n",
              "      <td>http://images.amazon.com/images/P/0449005615.0...</td>\n",
              "      <td>275</td>\n",
              "      <td>4.098182</td>\n",
              "    </tr>\n",
              "    <tr>\n",
              "      <th>126</th>\n",
              "      <td>Life of Pi</td>\n",
              "      <td>Yann Martel</td>\n",
              "      <td>http://images.amazon.com/images/P/0151008116.0...</td>\n",
              "      <td>664</td>\n",
              "      <td>4.088855</td>\n",
              "    </tr>\n",
              "    <tr>\n",
              "      <th>130</th>\n",
              "      <td>The Bean Trees</td>\n",
              "      <td>Barbara Kingsolver</td>\n",
              "      <td>http://images.amazon.com/images/P/0060915544.0...</td>\n",
              "      <td>389</td>\n",
              "      <td>4.087404</td>\n",
              "    </tr>\n",
              "    <tr>\n",
              "      <th>133</th>\n",
              "      <td>A Child Called \\It\\\": One Child's Courage to S...</td>\n",
              "      <td>Dave Pelzer</td>\n",
              "      <td>http://images.amazon.com/images/P/1558743669.0...</td>\n",
              "      <td>265</td>\n",
              "      <td>4.086792</td>\n",
              "    </tr>\n",
              "    <tr>\n",
              "      <th>135</th>\n",
              "      <td>ANGELA'S ASHES</td>\n",
              "      <td>Frank McCourt</td>\n",
              "      <td>http://images.amazon.com/images/P/0684874350.0...</td>\n",
              "      <td>279</td>\n",
              "      <td>4.075269</td>\n",
              "    </tr>\n",
              "    <tr>\n",
              "      <th>137</th>\n",
              "      <td>Good in Bed</td>\n",
              "      <td>Jennifer Weiner</td>\n",
              "      <td>http://images.amazon.com/images/P/0743418174.0...</td>\n",
              "      <td>490</td>\n",
              "      <td>4.055102</td>\n",
              "    </tr>\n",
              "    <tr>\n",
              "      <th>139</th>\n",
              "      <td>Fast Food Nation: The Dark Side of the All-Ame...</td>\n",
              "      <td>Eric Schlosser</td>\n",
              "      <td>http://images.amazon.com/images/P/0060938455.0...</td>\n",
              "      <td>321</td>\n",
              "      <td>4.037383</td>\n",
              "    </tr>\n",
              "    <tr>\n",
              "      <th>140</th>\n",
              "      <td>American Gods</td>\n",
              "      <td>Neil Gaiman</td>\n",
              "      <td>http://images.amazon.com/images/P/0380789035.0...</td>\n",
              "      <td>302</td>\n",
              "      <td>4.006623</td>\n",
              "    </tr>\n",
              "    <tr>\n",
              "      <th>141</th>\n",
              "      <td>Skipping Christmas</td>\n",
              "      <td>JOHN GRISHAM</td>\n",
              "      <td>http://images.amazon.com/images/P/0385505833.0...</td>\n",
              "      <td>322</td>\n",
              "      <td>4.006211</td>\n",
              "    </tr>\n",
              "    <tr>\n",
              "      <th>147</th>\n",
              "      <td>Left Behind: A Novel of the Earth's Last Days ...</td>\n",
              "      <td>Tim Lahaye</td>\n",
              "      <td>http://images.amazon.com/images/P/0842329129.0...</td>\n",
              "      <td>318</td>\n",
              "      <td>4.003145</td>\n",
              "    </tr>\n",
              "    <tr>\n",
              "      <th>149</th>\n",
              "      <td>The Golden Compass (His Dark Materials, Book 1)</td>\n",
              "      <td>PHILIP PULLMAN</td>\n",
              "      <td>http://images.amazon.com/images/P/037582345X.0...</td>\n",
              "      <td>336</td>\n",
              "      <td>4.000000</td>\n",
              "    </tr>\n",
              "    <tr>\n",
              "      <th>157</th>\n",
              "      <td>The Color Purple</td>\n",
              "      <td>Alice Walker</td>\n",
              "      <td>http://images.amazon.com/images/P/0671617028.0...</td>\n",
              "      <td>314</td>\n",
              "      <td>3.964968</td>\n",
              "    </tr>\n",
              "    <tr>\n",
              "      <th>163</th>\n",
              "      <td>Silence of the Lambs</td>\n",
              "      <td>Thomas Harris</td>\n",
              "      <td>http://images.amazon.com/images/P/0312924585.0...</td>\n",
              "      <td>256</td>\n",
              "      <td>3.960938</td>\n",
              "    </tr>\n",
              "    <tr>\n",
              "      <th>166</th>\n",
              "      <td>About a Boy</td>\n",
              "      <td>Nick Hornby</td>\n",
              "      <td>http://images.amazon.com/images/P/1573227331.0...</td>\n",
              "      <td>262</td>\n",
              "      <td>3.900763</td>\n",
              "    </tr>\n",
              "    <tr>\n",
              "      <th>173</th>\n",
              "      <td>Seven Up (A Stephanie Plum Novel)</td>\n",
              "      <td>Janet Evanovich</td>\n",
              "      <td>http://images.amazon.com/images/P/0312265840.0...</td>\n",
              "      <td>278</td>\n",
              "      <td>3.888489</td>\n",
              "    </tr>\n",
              "    <tr>\n",
              "      <th>175</th>\n",
              "      <td>The Alchemist: A Fable About Following Your Dream</td>\n",
              "      <td>Paulo Coelho</td>\n",
              "      <td>http://images.amazon.com/images/P/0062502174.0...</td>\n",
              "      <td>266</td>\n",
              "      <td>3.875940</td>\n",
              "    </tr>\n",
              "    <tr>\n",
              "      <th>177</th>\n",
              "      <td>Hard Eight : A Stephanie Plum Novel (A Stephan...</td>\n",
              "      <td>Janet Evanovich</td>\n",
              "      <td>http://images.amazon.com/images/P/0312983867.0...</td>\n",
              "      <td>269</td>\n",
              "      <td>3.825279</td>\n",
              "    </tr>\n",
              "    <tr>\n",
              "      <th>182</th>\n",
              "      <td>Suzanne's Diary for Nicholas</td>\n",
              "      <td>James Patterson</td>\n",
              "      <td>http://images.amazon.com/images/P/0316969443.0...</td>\n",
              "      <td>457</td>\n",
              "      <td>3.820569</td>\n",
              "    </tr>\n",
              "    <tr>\n",
              "      <th>186</th>\n",
              "      <td>Lord of the Flies</td>\n",
              "      <td>William Gerald Golding</td>\n",
              "      <td>http://images.amazon.com/images/P/0399501487.0...</td>\n",
              "      <td>259</td>\n",
              "      <td>3.818533</td>\n",
              "    </tr>\n",
              "    <tr>\n",
              "      <th>192</th>\n",
              "      <td>A Prayer for Owen Meany</td>\n",
              "      <td>John Irving</td>\n",
              "      <td>http://images.amazon.com/images/P/0345361792.0...</td>\n",
              "      <td>413</td>\n",
              "      <td>3.796610</td>\n",
              "    </tr>\n",
              "    <tr>\n",
              "      <th>194</th>\n",
              "      <td>The Vampire Lestat (Vampire Chronicles, Book II)</td>\n",
              "      <td>ANNE RICE</td>\n",
              "      <td>http://images.amazon.com/images/P/0345313860.0...</td>\n",
              "      <td>301</td>\n",
              "      <td>3.777409</td>\n",
              "    </tr>\n",
              "    <tr>\n",
              "      <th>195</th>\n",
              "      <td>White Oleander : A Novel (Oprah's Book Club)</td>\n",
              "      <td>Janet Fitch</td>\n",
              "      <td>http://images.amazon.com/images/P/0316284955.0...</td>\n",
              "      <td>356</td>\n",
              "      <td>3.772472</td>\n",
              "    </tr>\n",
              "  </tbody>\n",
              "</table>\n",
              "</div>\n",
              "      <button class=\"colab-df-convert\" onclick=\"convertToInteractive('df-ec485e35-686f-4548-b6db-a71ad935c49d')\"\n",
              "              title=\"Convert this dataframe to an interactive table.\"\n",
              "              style=\"display:none;\">\n",
              "        \n",
              "  <svg xmlns=\"http://www.w3.org/2000/svg\" height=\"24px\"viewBox=\"0 0 24 24\"\n",
              "       width=\"24px\">\n",
              "    <path d=\"M0 0h24v24H0V0z\" fill=\"none\"/>\n",
              "    <path d=\"M18.56 5.44l.94 2.06.94-2.06 2.06-.94-2.06-.94-.94-2.06-.94 2.06-2.06.94zm-11 1L8.5 8.5l.94-2.06 2.06-.94-2.06-.94L8.5 2.5l-.94 2.06-2.06.94zm10 10l.94 2.06.94-2.06 2.06-.94-2.06-.94-.94-2.06-.94 2.06-2.06.94z\"/><path d=\"M17.41 7.96l-1.37-1.37c-.4-.4-.92-.59-1.43-.59-.52 0-1.04.2-1.43.59L10.3 9.45l-7.72 7.72c-.78.78-.78 2.05 0 2.83L4 21.41c.39.39.9.59 1.41.59.51 0 1.02-.2 1.41-.59l7.78-7.78 2.81-2.81c.8-.78.8-2.07 0-2.86zM5.41 20L4 18.59l7.72-7.72 1.47 1.35L5.41 20z\"/>\n",
              "  </svg>\n",
              "      </button>\n",
              "      \n",
              "  <style>\n",
              "    .colab-df-container {\n",
              "      display:flex;\n",
              "      flex-wrap:wrap;\n",
              "      gap: 12px;\n",
              "    }\n",
              "\n",
              "    .colab-df-convert {\n",
              "      background-color: #E8F0FE;\n",
              "      border: none;\n",
              "      border-radius: 50%;\n",
              "      cursor: pointer;\n",
              "      display: none;\n",
              "      fill: #1967D2;\n",
              "      height: 32px;\n",
              "      padding: 0 0 0 0;\n",
              "      width: 32px;\n",
              "    }\n",
              "\n",
              "    .colab-df-convert:hover {\n",
              "      background-color: #E2EBFA;\n",
              "      box-shadow: 0px 1px 2px rgba(60, 64, 67, 0.3), 0px 1px 3px 1px rgba(60, 64, 67, 0.15);\n",
              "      fill: #174EA6;\n",
              "    }\n",
              "\n",
              "    [theme=dark] .colab-df-convert {\n",
              "      background-color: #3B4455;\n",
              "      fill: #D2E3FC;\n",
              "    }\n",
              "\n",
              "    [theme=dark] .colab-df-convert:hover {\n",
              "      background-color: #434B5C;\n",
              "      box-shadow: 0px 1px 3px 1px rgba(0, 0, 0, 0.15);\n",
              "      filter: drop-shadow(0px 1px 2px rgba(0, 0, 0, 0.3));\n",
              "      fill: #FFFFFF;\n",
              "    }\n",
              "  </style>\n",
              "\n",
              "      <script>\n",
              "        const buttonEl =\n",
              "          document.querySelector('#df-ec485e35-686f-4548-b6db-a71ad935c49d button.colab-df-convert');\n",
              "        buttonEl.style.display =\n",
              "          google.colab.kernel.accessAllowed ? 'block' : 'none';\n",
              "\n",
              "        async function convertToInteractive(key) {\n",
              "          const element = document.querySelector('#df-ec485e35-686f-4548-b6db-a71ad935c49d');\n",
              "          const dataTable =\n",
              "            await google.colab.kernel.invokeFunction('convertToInteractive',\n",
              "                                                     [key], {});\n",
              "          if (!dataTable) return;\n",
              "\n",
              "          const docLinkHtml = 'Like what you see? Visit the ' +\n",
              "            '<a target=\"_blank\" href=https://colab.research.google.com/notebooks/data_table.ipynb>data table notebook</a>'\n",
              "            + ' to learn more about interactive tables.';\n",
              "          element.innerHTML = '';\n",
              "          dataTable['output_type'] = 'display_data';\n",
              "          await google.colab.output.renderOutput(dataTable, element);\n",
              "          const docLink = document.createElement('div');\n",
              "          docLink.innerHTML = docLinkHtml;\n",
              "          element.appendChild(docLink);\n",
              "        }\n",
              "      </script>\n",
              "    </div>\n",
              "  </div>\n",
              "  "
            ]
          },
          "metadata": {},
          "execution_count": 42
        }
      ]
    },
    {
      "cell_type": "code",
      "source": [
        " popular_df.shape"
      ],
      "metadata": {
        "id": "kkbbxD1h1uTl",
        "outputId": "0c39516a-8c47-43df-ee54-17e459aa3be5",
        "colab": {
          "base_uri": "https://localhost:8080/"
        }
      },
      "execution_count": 44,
      "outputs": [
        {
          "output_type": "execute_result",
          "data": {
            "text/plain": [
              "(50, 5)"
            ]
          },
          "metadata": {},
          "execution_count": 44
        }
      ]
    },
    {
      "cell_type": "markdown",
      "source": [
        "## **Collabrative Filtering based Recommended System**"
      ],
      "metadata": {
        "id": "AdJXsbA51V12"
      }
    },
    {
      "cell_type": "code",
      "source": [
        "x = ratings_with_name.groupby('User-ID').count()['Book-Rating'] > 200\n",
        "educated_users = x[x].index"
      ],
      "metadata": {
        "id": "zAR7oLYv2yG-"
      },
      "execution_count": 49,
      "outputs": []
    },
    {
      "cell_type": "code",
      "source": [
        "filtered_rating = ratings_with_name[ratings_with_name['User-ID'].isin(educated_users)]"
      ],
      "metadata": {
        "id": "7Xgnxg_m2_lU"
      },
      "execution_count": 51,
      "outputs": []
    },
    {
      "cell_type": "code",
      "source": [
        "y = filtered_rating.groupby('Book-Title').count()['Book-Rating'] >= 50\n",
        "famous_books = y[y].index"
      ],
      "metadata": {
        "id": "qjjVswvu3mzd"
      },
      "execution_count": 55,
      "outputs": []
    },
    {
      "cell_type": "code",
      "source": [
        "final_ratings = filtered_rating[filtered_rating['Book-Title'].isin(famous_books)]"
      ],
      "metadata": {
        "id": "9VDJIz0p3_HQ"
      },
      "execution_count": 58,
      "outputs": []
    },
    {
      "cell_type": "code",
      "source": [
        "pt = final_ratings.pivot_table(index='Book-Title', columns='User-ID', values='Book-Rating')\n",
        "pt"
      ],
      "metadata": {
        "id": "himFR9r54gf-",
        "outputId": "9c1b11c1-dfc2-4f75-e991-814a07704a5f",
        "colab": {
          "base_uri": "https://localhost:8080/",
          "height": 693
        }
      },
      "execution_count": 62,
      "outputs": [
        {
          "output_type": "execute_result",
          "data": {
            "text/plain": [
              "User-ID                                             254     2276    2766    \\\n",
              "Book-Title                                                                   \n",
              "1984                                                   9.0     NaN     NaN   \n",
              "1st to Die: A Novel                                    NaN     NaN     NaN   \n",
              "2nd Chance                                             NaN    10.0     NaN   \n",
              "4 Blondes                                              NaN     NaN     NaN   \n",
              "A Bend in the Road                                     0.0     NaN     7.0   \n",
              "...                                                    ...     ...     ...   \n",
              "Year of Wonders                                        NaN     NaN     NaN   \n",
              "You Belong To Me                                       NaN     NaN     NaN   \n",
              "Zen and the Art of Motorcycle Maintenance: An I...     NaN     NaN     NaN   \n",
              "Zoya                                                   NaN     NaN     NaN   \n",
              "\\O\\\" Is for Outlaw\"                                    NaN     NaN     NaN   \n",
              "\n",
              "User-ID                                             2977    3363    4017    \\\n",
              "Book-Title                                                                   \n",
              "1984                                                   NaN     NaN     NaN   \n",
              "1st to Die: A Novel                                    NaN     NaN     NaN   \n",
              "2nd Chance                                             NaN     NaN     NaN   \n",
              "4 Blondes                                              NaN     NaN     NaN   \n",
              "A Bend in the Road                                     NaN     NaN     NaN   \n",
              "...                                                    ...     ...     ...   \n",
              "Year of Wonders                                        7.0     NaN     NaN   \n",
              "You Belong To Me                                       NaN     NaN     NaN   \n",
              "Zen and the Art of Motorcycle Maintenance: An I...     NaN     0.0     NaN   \n",
              "Zoya                                                   NaN     NaN     NaN   \n",
              "\\O\\\" Is for Outlaw\"                                    NaN     NaN     NaN   \n",
              "\n",
              "User-ID                                             4385    6251    6323    \\\n",
              "Book-Title                                                                   \n",
              "1984                                                   NaN     NaN     NaN   \n",
              "1st to Die: A Novel                                    NaN     NaN     NaN   \n",
              "2nd Chance                                             NaN     NaN     NaN   \n",
              "4 Blondes                                              NaN     0.0     NaN   \n",
              "A Bend in the Road                                     NaN     NaN     NaN   \n",
              "...                                                    ...     ...     ...   \n",
              "Year of Wonders                                        NaN     NaN     NaN   \n",
              "You Belong To Me                                       NaN     NaN     0.0   \n",
              "Zen and the Art of Motorcycle Maintenance: An I...     NaN     0.0     NaN   \n",
              "Zoya                                                   NaN     NaN     NaN   \n",
              "\\O\\\" Is for Outlaw\"                                    NaN     NaN     NaN   \n",
              "\n",
              "User-ID                                             6543    ...  271705  \\\n",
              "Book-Title                                                  ...           \n",
              "1984                                                   NaN  ...    10.0   \n",
              "1st to Die: A Novel                                    9.0  ...     NaN   \n",
              "2nd Chance                                             0.0  ...     NaN   \n",
              "4 Blondes                                              NaN  ...     NaN   \n",
              "A Bend in the Road                                     NaN  ...     NaN   \n",
              "...                                                    ...  ...     ...   \n",
              "Year of Wonders                                        0.0  ...     NaN   \n",
              "You Belong To Me                                       NaN  ...     NaN   \n",
              "Zen and the Art of Motorcycle Maintenance: An I...     NaN  ...     NaN   \n",
              "Zoya                                                   NaN  ...     NaN   \n",
              "\\O\\\" Is for Outlaw\"                                    NaN  ...     NaN   \n",
              "\n",
              "User-ID                                             273979  274004  274061  \\\n",
              "Book-Title                                                                   \n",
              "1984                                                   NaN     NaN     NaN   \n",
              "1st to Die: A Novel                                    NaN     NaN     NaN   \n",
              "2nd Chance                                             NaN     NaN     NaN   \n",
              "4 Blondes                                              NaN     NaN     NaN   \n",
              "A Bend in the Road                                     0.0     NaN     NaN   \n",
              "...                                                    ...     ...     ...   \n",
              "Year of Wonders                                        9.0     NaN     NaN   \n",
              "You Belong To Me                                       NaN     NaN     NaN   \n",
              "Zen and the Art of Motorcycle Maintenance: An I...     NaN     NaN     NaN   \n",
              "Zoya                                                   0.0     NaN     NaN   \n",
              "\\O\\\" Is for Outlaw\"                                    NaN     NaN     NaN   \n",
              "\n",
              "User-ID                                             274301  274308  275970  \\\n",
              "Book-Title                                                                   \n",
              "1984                                                   NaN     NaN     0.0   \n",
              "1st to Die: A Novel                                    NaN     NaN     NaN   \n",
              "2nd Chance                                             NaN     0.0     NaN   \n",
              "4 Blondes                                              NaN     NaN     NaN   \n",
              "A Bend in the Road                                     NaN     NaN     NaN   \n",
              "...                                                    ...     ...     ...   \n",
              "Year of Wonders                                        NaN     NaN     0.0   \n",
              "You Belong To Me                                       NaN     NaN     NaN   \n",
              "Zen and the Art of Motorcycle Maintenance: An I...     NaN     NaN     0.0   \n",
              "Zoya                                                   NaN     NaN     NaN   \n",
              "\\O\\\" Is for Outlaw\"                                    8.0     NaN     NaN   \n",
              "\n",
              "User-ID                                             277427  277639  278418  \n",
              "Book-Title                                                                  \n",
              "1984                                                   NaN     NaN     NaN  \n",
              "1st to Die: A Novel                                    NaN     NaN     NaN  \n",
              "2nd Chance                                             NaN     0.0     NaN  \n",
              "4 Blondes                                              NaN     NaN     NaN  \n",
              "A Bend in the Road                                     NaN     NaN     NaN  \n",
              "...                                                    ...     ...     ...  \n",
              "Year of Wonders                                        NaN     NaN     NaN  \n",
              "You Belong To Me                                       NaN     NaN     NaN  \n",
              "Zen and the Art of Motorcycle Maintenance: An I...     NaN     NaN     NaN  \n",
              "Zoya                                                   NaN     NaN     NaN  \n",
              "\\O\\\" Is for Outlaw\"                                    NaN     NaN     NaN  \n",
              "\n",
              "[706 rows x 810 columns]"
            ],
            "text/html": [
              "\n",
              "  <div id=\"df-7ba98336-6e35-4a9a-ade3-5b530436afde\">\n",
              "    <div class=\"colab-df-container\">\n",
              "      <div>\n",
              "<style scoped>\n",
              "    .dataframe tbody tr th:only-of-type {\n",
              "        vertical-align: middle;\n",
              "    }\n",
              "\n",
              "    .dataframe tbody tr th {\n",
              "        vertical-align: top;\n",
              "    }\n",
              "\n",
              "    .dataframe thead th {\n",
              "        text-align: right;\n",
              "    }\n",
              "</style>\n",
              "<table border=\"1\" class=\"dataframe\">\n",
              "  <thead>\n",
              "    <tr style=\"text-align: right;\">\n",
              "      <th>User-ID</th>\n",
              "      <th>254</th>\n",
              "      <th>2276</th>\n",
              "      <th>2766</th>\n",
              "      <th>2977</th>\n",
              "      <th>3363</th>\n",
              "      <th>4017</th>\n",
              "      <th>4385</th>\n",
              "      <th>6251</th>\n",
              "      <th>6323</th>\n",
              "      <th>6543</th>\n",
              "      <th>...</th>\n",
              "      <th>271705</th>\n",
              "      <th>273979</th>\n",
              "      <th>274004</th>\n",
              "      <th>274061</th>\n",
              "      <th>274301</th>\n",
              "      <th>274308</th>\n",
              "      <th>275970</th>\n",
              "      <th>277427</th>\n",
              "      <th>277639</th>\n",
              "      <th>278418</th>\n",
              "    </tr>\n",
              "    <tr>\n",
              "      <th>Book-Title</th>\n",
              "      <th></th>\n",
              "      <th></th>\n",
              "      <th></th>\n",
              "      <th></th>\n",
              "      <th></th>\n",
              "      <th></th>\n",
              "      <th></th>\n",
              "      <th></th>\n",
              "      <th></th>\n",
              "      <th></th>\n",
              "      <th></th>\n",
              "      <th></th>\n",
              "      <th></th>\n",
              "      <th></th>\n",
              "      <th></th>\n",
              "      <th></th>\n",
              "      <th></th>\n",
              "      <th></th>\n",
              "      <th></th>\n",
              "      <th></th>\n",
              "      <th></th>\n",
              "    </tr>\n",
              "  </thead>\n",
              "  <tbody>\n",
              "    <tr>\n",
              "      <th>1984</th>\n",
              "      <td>9.0</td>\n",
              "      <td>NaN</td>\n",
              "      <td>NaN</td>\n",
              "      <td>NaN</td>\n",
              "      <td>NaN</td>\n",
              "      <td>NaN</td>\n",
              "      <td>NaN</td>\n",
              "      <td>NaN</td>\n",
              "      <td>NaN</td>\n",
              "      <td>NaN</td>\n",
              "      <td>...</td>\n",
              "      <td>10.0</td>\n",
              "      <td>NaN</td>\n",
              "      <td>NaN</td>\n",
              "      <td>NaN</td>\n",
              "      <td>NaN</td>\n",
              "      <td>NaN</td>\n",
              "      <td>0.0</td>\n",
              "      <td>NaN</td>\n",
              "      <td>NaN</td>\n",
              "      <td>NaN</td>\n",
              "    </tr>\n",
              "    <tr>\n",
              "      <th>1st to Die: A Novel</th>\n",
              "      <td>NaN</td>\n",
              "      <td>NaN</td>\n",
              "      <td>NaN</td>\n",
              "      <td>NaN</td>\n",
              "      <td>NaN</td>\n",
              "      <td>NaN</td>\n",
              "      <td>NaN</td>\n",
              "      <td>NaN</td>\n",
              "      <td>NaN</td>\n",
              "      <td>9.0</td>\n",
              "      <td>...</td>\n",
              "      <td>NaN</td>\n",
              "      <td>NaN</td>\n",
              "      <td>NaN</td>\n",
              "      <td>NaN</td>\n",
              "      <td>NaN</td>\n",
              "      <td>NaN</td>\n",
              "      <td>NaN</td>\n",
              "      <td>NaN</td>\n",
              "      <td>NaN</td>\n",
              "      <td>NaN</td>\n",
              "    </tr>\n",
              "    <tr>\n",
              "      <th>2nd Chance</th>\n",
              "      <td>NaN</td>\n",
              "      <td>10.0</td>\n",
              "      <td>NaN</td>\n",
              "      <td>NaN</td>\n",
              "      <td>NaN</td>\n",
              "      <td>NaN</td>\n",
              "      <td>NaN</td>\n",
              "      <td>NaN</td>\n",
              "      <td>NaN</td>\n",
              "      <td>0.0</td>\n",
              "      <td>...</td>\n",
              "      <td>NaN</td>\n",
              "      <td>NaN</td>\n",
              "      <td>NaN</td>\n",
              "      <td>NaN</td>\n",
              "      <td>NaN</td>\n",
              "      <td>0.0</td>\n",
              "      <td>NaN</td>\n",
              "      <td>NaN</td>\n",
              "      <td>0.0</td>\n",
              "      <td>NaN</td>\n",
              "    </tr>\n",
              "    <tr>\n",
              "      <th>4 Blondes</th>\n",
              "      <td>NaN</td>\n",
              "      <td>NaN</td>\n",
              "      <td>NaN</td>\n",
              "      <td>NaN</td>\n",
              "      <td>NaN</td>\n",
              "      <td>NaN</td>\n",
              "      <td>NaN</td>\n",
              "      <td>0.0</td>\n",
              "      <td>NaN</td>\n",
              "      <td>NaN</td>\n",
              "      <td>...</td>\n",
              "      <td>NaN</td>\n",
              "      <td>NaN</td>\n",
              "      <td>NaN</td>\n",
              "      <td>NaN</td>\n",
              "      <td>NaN</td>\n",
              "      <td>NaN</td>\n",
              "      <td>NaN</td>\n",
              "      <td>NaN</td>\n",
              "      <td>NaN</td>\n",
              "      <td>NaN</td>\n",
              "    </tr>\n",
              "    <tr>\n",
              "      <th>A Bend in the Road</th>\n",
              "      <td>0.0</td>\n",
              "      <td>NaN</td>\n",
              "      <td>7.0</td>\n",
              "      <td>NaN</td>\n",
              "      <td>NaN</td>\n",
              "      <td>NaN</td>\n",
              "      <td>NaN</td>\n",
              "      <td>NaN</td>\n",
              "      <td>NaN</td>\n",
              "      <td>NaN</td>\n",
              "      <td>...</td>\n",
              "      <td>NaN</td>\n",
              "      <td>0.0</td>\n",
              "      <td>NaN</td>\n",
              "      <td>NaN</td>\n",
              "      <td>NaN</td>\n",
              "      <td>NaN</td>\n",
              "      <td>NaN</td>\n",
              "      <td>NaN</td>\n",
              "      <td>NaN</td>\n",
              "      <td>NaN</td>\n",
              "    </tr>\n",
              "    <tr>\n",
              "      <th>...</th>\n",
              "      <td>...</td>\n",
              "      <td>...</td>\n",
              "      <td>...</td>\n",
              "      <td>...</td>\n",
              "      <td>...</td>\n",
              "      <td>...</td>\n",
              "      <td>...</td>\n",
              "      <td>...</td>\n",
              "      <td>...</td>\n",
              "      <td>...</td>\n",
              "      <td>...</td>\n",
              "      <td>...</td>\n",
              "      <td>...</td>\n",
              "      <td>...</td>\n",
              "      <td>...</td>\n",
              "      <td>...</td>\n",
              "      <td>...</td>\n",
              "      <td>...</td>\n",
              "      <td>...</td>\n",
              "      <td>...</td>\n",
              "      <td>...</td>\n",
              "    </tr>\n",
              "    <tr>\n",
              "      <th>Year of Wonders</th>\n",
              "      <td>NaN</td>\n",
              "      <td>NaN</td>\n",
              "      <td>NaN</td>\n",
              "      <td>7.0</td>\n",
              "      <td>NaN</td>\n",
              "      <td>NaN</td>\n",
              "      <td>NaN</td>\n",
              "      <td>NaN</td>\n",
              "      <td>NaN</td>\n",
              "      <td>0.0</td>\n",
              "      <td>...</td>\n",
              "      <td>NaN</td>\n",
              "      <td>9.0</td>\n",
              "      <td>NaN</td>\n",
              "      <td>NaN</td>\n",
              "      <td>NaN</td>\n",
              "      <td>NaN</td>\n",
              "      <td>0.0</td>\n",
              "      <td>NaN</td>\n",
              "      <td>NaN</td>\n",
              "      <td>NaN</td>\n",
              "    </tr>\n",
              "    <tr>\n",
              "      <th>You Belong To Me</th>\n",
              "      <td>NaN</td>\n",
              "      <td>NaN</td>\n",
              "      <td>NaN</td>\n",
              "      <td>NaN</td>\n",
              "      <td>NaN</td>\n",
              "      <td>NaN</td>\n",
              "      <td>NaN</td>\n",
              "      <td>NaN</td>\n",
              "      <td>0.0</td>\n",
              "      <td>NaN</td>\n",
              "      <td>...</td>\n",
              "      <td>NaN</td>\n",
              "      <td>NaN</td>\n",
              "      <td>NaN</td>\n",
              "      <td>NaN</td>\n",
              "      <td>NaN</td>\n",
              "      <td>NaN</td>\n",
              "      <td>NaN</td>\n",
              "      <td>NaN</td>\n",
              "      <td>NaN</td>\n",
              "      <td>NaN</td>\n",
              "    </tr>\n",
              "    <tr>\n",
              "      <th>Zen and the Art of Motorcycle Maintenance: An Inquiry into Values</th>\n",
              "      <td>NaN</td>\n",
              "      <td>NaN</td>\n",
              "      <td>NaN</td>\n",
              "      <td>NaN</td>\n",
              "      <td>0.0</td>\n",
              "      <td>NaN</td>\n",
              "      <td>NaN</td>\n",
              "      <td>0.0</td>\n",
              "      <td>NaN</td>\n",
              "      <td>NaN</td>\n",
              "      <td>...</td>\n",
              "      <td>NaN</td>\n",
              "      <td>NaN</td>\n",
              "      <td>NaN</td>\n",
              "      <td>NaN</td>\n",
              "      <td>NaN</td>\n",
              "      <td>NaN</td>\n",
              "      <td>0.0</td>\n",
              "      <td>NaN</td>\n",
              "      <td>NaN</td>\n",
              "      <td>NaN</td>\n",
              "    </tr>\n",
              "    <tr>\n",
              "      <th>Zoya</th>\n",
              "      <td>NaN</td>\n",
              "      <td>NaN</td>\n",
              "      <td>NaN</td>\n",
              "      <td>NaN</td>\n",
              "      <td>NaN</td>\n",
              "      <td>NaN</td>\n",
              "      <td>NaN</td>\n",
              "      <td>NaN</td>\n",
              "      <td>NaN</td>\n",
              "      <td>NaN</td>\n",
              "      <td>...</td>\n",
              "      <td>NaN</td>\n",
              "      <td>0.0</td>\n",
              "      <td>NaN</td>\n",
              "      <td>NaN</td>\n",
              "      <td>NaN</td>\n",
              "      <td>NaN</td>\n",
              "      <td>NaN</td>\n",
              "      <td>NaN</td>\n",
              "      <td>NaN</td>\n",
              "      <td>NaN</td>\n",
              "    </tr>\n",
              "    <tr>\n",
              "      <th>\\O\\\" Is for Outlaw\"</th>\n",
              "      <td>NaN</td>\n",
              "      <td>NaN</td>\n",
              "      <td>NaN</td>\n",
              "      <td>NaN</td>\n",
              "      <td>NaN</td>\n",
              "      <td>NaN</td>\n",
              "      <td>NaN</td>\n",
              "      <td>NaN</td>\n",
              "      <td>NaN</td>\n",
              "      <td>NaN</td>\n",
              "      <td>...</td>\n",
              "      <td>NaN</td>\n",
              "      <td>NaN</td>\n",
              "      <td>NaN</td>\n",
              "      <td>NaN</td>\n",
              "      <td>8.0</td>\n",
              "      <td>NaN</td>\n",
              "      <td>NaN</td>\n",
              "      <td>NaN</td>\n",
              "      <td>NaN</td>\n",
              "      <td>NaN</td>\n",
              "    </tr>\n",
              "  </tbody>\n",
              "</table>\n",
              "<p>706 rows × 810 columns</p>\n",
              "</div>\n",
              "      <button class=\"colab-df-convert\" onclick=\"convertToInteractive('df-7ba98336-6e35-4a9a-ade3-5b530436afde')\"\n",
              "              title=\"Convert this dataframe to an interactive table.\"\n",
              "              style=\"display:none;\">\n",
              "        \n",
              "  <svg xmlns=\"http://www.w3.org/2000/svg\" height=\"24px\"viewBox=\"0 0 24 24\"\n",
              "       width=\"24px\">\n",
              "    <path d=\"M0 0h24v24H0V0z\" fill=\"none\"/>\n",
              "    <path d=\"M18.56 5.44l.94 2.06.94-2.06 2.06-.94-2.06-.94-.94-2.06-.94 2.06-2.06.94zm-11 1L8.5 8.5l.94-2.06 2.06-.94-2.06-.94L8.5 2.5l-.94 2.06-2.06.94zm10 10l.94 2.06.94-2.06 2.06-.94-2.06-.94-.94-2.06-.94 2.06-2.06.94z\"/><path d=\"M17.41 7.96l-1.37-1.37c-.4-.4-.92-.59-1.43-.59-.52 0-1.04.2-1.43.59L10.3 9.45l-7.72 7.72c-.78.78-.78 2.05 0 2.83L4 21.41c.39.39.9.59 1.41.59.51 0 1.02-.2 1.41-.59l7.78-7.78 2.81-2.81c.8-.78.8-2.07 0-2.86zM5.41 20L4 18.59l7.72-7.72 1.47 1.35L5.41 20z\"/>\n",
              "  </svg>\n",
              "      </button>\n",
              "      \n",
              "  <style>\n",
              "    .colab-df-container {\n",
              "      display:flex;\n",
              "      flex-wrap:wrap;\n",
              "      gap: 12px;\n",
              "    }\n",
              "\n",
              "    .colab-df-convert {\n",
              "      background-color: #E8F0FE;\n",
              "      border: none;\n",
              "      border-radius: 50%;\n",
              "      cursor: pointer;\n",
              "      display: none;\n",
              "      fill: #1967D2;\n",
              "      height: 32px;\n",
              "      padding: 0 0 0 0;\n",
              "      width: 32px;\n",
              "    }\n",
              "\n",
              "    .colab-df-convert:hover {\n",
              "      background-color: #E2EBFA;\n",
              "      box-shadow: 0px 1px 2px rgba(60, 64, 67, 0.3), 0px 1px 3px 1px rgba(60, 64, 67, 0.15);\n",
              "      fill: #174EA6;\n",
              "    }\n",
              "\n",
              "    [theme=dark] .colab-df-convert {\n",
              "      background-color: #3B4455;\n",
              "      fill: #D2E3FC;\n",
              "    }\n",
              "\n",
              "    [theme=dark] .colab-df-convert:hover {\n",
              "      background-color: #434B5C;\n",
              "      box-shadow: 0px 1px 3px 1px rgba(0, 0, 0, 0.15);\n",
              "      filter: drop-shadow(0px 1px 2px rgba(0, 0, 0, 0.3));\n",
              "      fill: #FFFFFF;\n",
              "    }\n",
              "  </style>\n",
              "\n",
              "      <script>\n",
              "        const buttonEl =\n",
              "          document.querySelector('#df-7ba98336-6e35-4a9a-ade3-5b530436afde button.colab-df-convert');\n",
              "        buttonEl.style.display =\n",
              "          google.colab.kernel.accessAllowed ? 'block' : 'none';\n",
              "\n",
              "        async function convertToInteractive(key) {\n",
              "          const element = document.querySelector('#df-7ba98336-6e35-4a9a-ade3-5b530436afde');\n",
              "          const dataTable =\n",
              "            await google.colab.kernel.invokeFunction('convertToInteractive',\n",
              "                                                     [key], {});\n",
              "          if (!dataTable) return;\n",
              "\n",
              "          const docLinkHtml = 'Like what you see? Visit the ' +\n",
              "            '<a target=\"_blank\" href=https://colab.research.google.com/notebooks/data_table.ipynb>data table notebook</a>'\n",
              "            + ' to learn more about interactive tables.';\n",
              "          element.innerHTML = '';\n",
              "          dataTable['output_type'] = 'display_data';\n",
              "          await google.colab.output.renderOutput(dataTable, element);\n",
              "          const docLink = document.createElement('div');\n",
              "          docLink.innerHTML = docLinkHtml;\n",
              "          element.appendChild(docLink);\n",
              "        }\n",
              "      </script>\n",
              "    </div>\n",
              "  </div>\n",
              "  "
            ]
          },
          "metadata": {},
          "execution_count": 62
        }
      ]
    },
    {
      "cell_type": "code",
      "source": [
        "pt.fillna(0, inplace=True)"
      ],
      "metadata": {
        "id": "_OyiDhAq4v3t"
      },
      "execution_count": 63,
      "outputs": []
    },
    {
      "cell_type": "code",
      "source": [
        "from sklearn.metrics.pairwise import cosine_similarity"
      ],
      "metadata": {
        "id": "khAXmBH15QcN"
      },
      "execution_count": 75,
      "outputs": []
    },
    {
      "cell_type": "code",
      "source": [
        "similarity_scores = cosine_similarity(pt)"
      ],
      "metadata": {
        "id": "1WNeKM4v5slb"
      },
      "execution_count": 77,
      "outputs": []
    },
    {
      "cell_type": "markdown",
      "source": [
        ""
      ],
      "metadata": {
        "id": "s1sHLIAo6wan"
      }
    },
    {
      "cell_type": "code",
      "source": [
        "similarity_scores.shape"
      ],
      "metadata": {
        "id": "Pt4KP0fJ52jL",
        "outputId": "c75082de-4d0e-4a40-c4bc-a9b19c267da5",
        "colab": {
          "base_uri": "https://localhost:8080/"
        }
      },
      "execution_count": 80,
      "outputs": [
        {
          "output_type": "execute_result",
          "data": {
            "text/plain": [
              "(706, 706)"
            ]
          },
          "metadata": {},
          "execution_count": 80
        }
      ]
    },
    {
      "cell_type": "code",
      "source": [
        "np.where(pt.index=='1984')[0][0] "
      ],
      "metadata": {
        "id": "yvK5bb3h6FG6",
        "outputId": "01c5f184-7758-4cf4-fcfa-237cd53e337b",
        "colab": {
          "base_uri": "https://localhost:8080/"
        }
      },
      "execution_count": 81,
      "outputs": [
        {
          "output_type": "execute_result",
          "data": {
            "text/plain": [
              "0"
            ]
          },
          "metadata": {},
          "execution_count": 81
        }
      ]
    },
    {
      "cell_type": "code",
      "source": [
        "np.where(pt.index=='Zoya')[0][0] "
      ],
      "metadata": {
        "id": "53T98oA86SPJ",
        "outputId": "afd6854b-1f8a-4108-ebe9-8c2910363e71",
        "colab": {
          "base_uri": "https://localhost:8080/"
        }
      },
      "execution_count": 82,
      "outputs": [
        {
          "output_type": "execute_result",
          "data": {
            "text/plain": [
              "704"
            ]
          },
          "metadata": {},
          "execution_count": 82
        }
      ]
    },
    {
      "cell_type": "code",
      "source": [
        "def recommend(book_name):\n",
        "    # index fetch\n",
        "    index = np.where(pt.index==book_name)[0][0] \n",
        "    similar_items = sorted(list(enumerate(similarity_scores[index])), key=lambda x:x[1], reverse=True)[1:6]\n",
        "\n",
        "    for i in similar_items:\n",
        "        print(pt.index[i[0]])\n",
        "\n"
      ],
      "metadata": {
        "id": "20WyBNh857JK"
      },
      "execution_count": 103,
      "outputs": []
    },
    {
      "cell_type": "code",
      "source": [
        "recommend('1984')"
      ],
      "metadata": {
        "id": "iMU5BOwy6W1J",
        "outputId": "1a341b21-d671-4aa0-c4b7-5f985f347ad6",
        "colab": {
          "base_uri": "https://localhost:8080/"
        }
      },
      "execution_count": 104,
      "outputs": [
        {
          "output_type": "stream",
          "name": "stdout",
          "text": [
            "Animal Farm\n",
            "The Handmaid's Tale\n",
            "Brave New World\n",
            "The Vampire Lestat (Vampire Chronicles, Book II)\n",
            "The Hours : A Novel\n"
          ]
        }
      ]
    },
    {
      "cell_type": "code",
      "source": [
        "recommend('Message in a Bottle')"
      ],
      "metadata": {
        "id": "L7B9-HKu6r6E",
        "outputId": "2ae24b59-5488-4979-924f-c16c02b61e8f",
        "colab": {
          "base_uri": "https://localhost:8080/"
        }
      },
      "execution_count": 105,
      "outputs": [
        {
          "output_type": "stream",
          "name": "stdout",
          "text": [
            "Nights in Rodanthe\n",
            "The Mulberry Tree\n",
            "A Walk to Remember\n",
            "River's End\n",
            "Nightmares &amp; Dreamscapes\n"
          ]
        }
      ]
    },
    {
      "cell_type": "code",
      "source": [
        "recommend('The Notebook')"
      ],
      "metadata": {
        "id": "m6MZVZ9P7zgN",
        "outputId": "005f1d34-0561-42d0-b326-bb2331a7d3c8",
        "colab": {
          "base_uri": "https://localhost:8080/"
        }
      },
      "execution_count": 106,
      "outputs": [
        {
          "output_type": "stream",
          "name": "stdout",
          "text": [
            "A Walk to Remember\n",
            "The Rescue\n",
            "One Door Away from Heaven\n",
            "Toxin\n",
            "The Five People You Meet in Heaven\n"
          ]
        }
      ]
    },
    {
      "cell_type": "code",
      "source": [
        "recommend('The Da Vinci Code')"
      ],
      "metadata": {
        "id": "1-amDfxm8E5u",
        "outputId": "a1f37729-4285-4dfd-9e1e-b8539c7331f0",
        "colab": {
          "base_uri": "https://localhost:8080/"
        }
      },
      "execution_count": 107,
      "outputs": [
        {
          "output_type": "stream",
          "name": "stdout",
          "text": [
            "Angels &amp; Demons\n",
            "Touching Evil\n",
            "Saving Faith\n",
            "The Sweet Potato Queens' Book of Love\n",
            "Middlesex: A Novel\n"
          ]
        }
      ]
    },
    {
      "cell_type": "code",
      "source": [
        "recommend('The Hobbit : The Enchanting Prelude to The Lord of the Rings')"
      ],
      "metadata": {
        "id": "_8agQEPF8OY9",
        "outputId": "5de7a4bb-9d8f-4dd6-c6b6-54964f015e8c",
        "colab": {
          "base_uri": "https://localhost:8080/"
        }
      },
      "execution_count": 108,
      "outputs": [
        {
          "output_type": "stream",
          "name": "stdout",
          "text": [
            "The Two Towers (The Lord of the Rings, Part 2)\n",
            "The Fellowship of the Ring (The Lord of the Rings, Part 1)\n",
            "Where the Red Fern Grows\n",
            "One for the Money (A Stephanie Plum Novel)\n",
            "The Return of the King (The Lord of the Rings, Part 3)\n"
          ]
        }
      ]
    },
    {
      "cell_type": "code",
      "source": [
        "recommend('Harry Potter and the Chamber of Secrets (Book 2)')"
      ],
      "metadata": {
        "id": "qJh5yH438c2s",
        "outputId": "469f09f5-eed6-4175-99c9-1248076bf8a2",
        "colab": {
          "base_uri": "https://localhost:8080/"
        }
      },
      "execution_count": 109,
      "outputs": [
        {
          "output_type": "stream",
          "name": "stdout",
          "text": [
            "Harry Potter and the Prisoner of Azkaban (Book 3)\n",
            "Harry Potter and the Goblet of Fire (Book 4)\n",
            "Harry Potter and the Sorcerer's Stone (Harry Potter (Paperback))\n",
            "Harry Potter and the Sorcerer's Stone (Book 1)\n",
            "Harry Potter and the Order of the Phoenix (Book 5)\n"
          ]
        }
      ]
    },
    {
      "cell_type": "code",
      "source": [
        ""
      ],
      "metadata": {
        "id": "hQ7R0FiZ8pOs"
      },
      "execution_count": null,
      "outputs": []
    }
  ]
}